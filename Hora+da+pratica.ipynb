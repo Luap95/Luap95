{
  "nbformat": 4,
  "nbformat_minor": 0,
  "metadata": {
    "colab": {
      "provenance": [],
      "toc_visible": true,
      "include_colab_link": true
    },
    "kernelspec": {
      "name": "python3",
      "display_name": "Python 3"
    },
    "language_info": {
      "name": "python"
    }
  },
  "cells": [
    {
      "cell_type": "markdown",
      "metadata": {
        "id": "view-in-github",
        "colab_type": "text"
      },
      "source": [
        "<a href=\"https://colab.research.google.com/github/Luap95/Luap95/blob/main/Hora%2Bda%2Bpratica.ipynb\" target=\"_parent\"><img src=\"https://colab.research.google.com/assets/colab-badge.svg\" alt=\"Open In Colab\"/></a>"
      ]
    },
    {
      "cell_type": "markdown",
      "source": [
        "# Sobre o notebook\n",
        "\n",
        "A \"hora da prática\" é uma atividade do curso de Python para Data Science da Alura que contém diversos desafios envolvendo os aprendizados de cada aula.\n",
        "\n",
        "O notebook \"hora da pratica\" é um notebook construído com espaço para as células dos desafios propostos no curso, com ele você tem espaço para construir e executar suas soluções"
      ],
      "metadata": {
        "id": "_kwAaQ36gLQ1"
      }
    },
    {
      "cell_type": "markdown",
      "source": [
        "## Aula 1 - Introdução ao Python"
      ],
      "metadata": {
        "id": "Mc-KN0dA0Z83"
      }
    },
    {
      "cell_type": "markdown",
      "source": [
        "### Questão 1\n",
        "\n",
        "Imprima a frase `Escola de Dados da Alura!`"
      ],
      "metadata": {
        "id": "l5eLWf0W0ikn"
      }
    },
    {
      "cell_type": "code",
      "source": [
        "print('Escola de Dados da Alura!')"
      ],
      "metadata": {
        "id": "5pllxJ0h0-yA",
        "colab": {
          "base_uri": "https://localhost:8080/"
        },
        "outputId": "8b606ef5-e3a6-4965-c863-7b7206d1a720"
      },
      "execution_count": null,
      "outputs": [
        {
          "output_type": "stream",
          "name": "stdout",
          "text": [
            "Escola de Dados da Alura!\n"
          ]
        }
      ]
    },
    {
      "cell_type": "markdown",
      "source": [
        "### Questão 2\n",
        "Imprima na tela seu nome e seu sobrenome seguindo a estrutura abaixo:\n",
        "```\n",
        "Nome: [seu nome]\n",
        "Sobrenome: [seu sobrenome]\n",
        "```\n"
      ],
      "metadata": {
        "id": "tQdX90Ue03c7"
      }
    },
    {
      "cell_type": "code",
      "source": [
        "print('Nome:', 'Lucas')\n",
        "print('Sobrenome:', 'Almeida Pereira')"
      ],
      "metadata": {
        "id": "RVw5iKn20_Ps",
        "colab": {
          "base_uri": "https://localhost:8080/"
        },
        "outputId": "960288d8-57cc-4770-b8ba-66e03b9ec122"
      },
      "execution_count": null,
      "outputs": [
        {
          "output_type": "stream",
          "name": "stdout",
          "text": [
            "Nome: Lucas\n",
            "Sobrenome: Almeida Pereira\n"
          ]
        }
      ]
    },
    {
      "cell_type": "markdown",
      "source": [
        "### Questão 3\n",
        "Imprima o seu primeiro nome letra a letra. Por exemplo, nome é Mirla, então eu obtenho a seguinte saída:\n",
        "```\n",
        "M\n",
        "I\n",
        "R\n",
        "L\n",
        "A\n",
        "```\n"
      ],
      "metadata": {
        "id": "gfg-aiip03vC"
      }
    },
    {
      "cell_type": "code",
      "source": [
        "print('L')\n",
        "print('u')\n",
        "print('c')\n",
        "print('a')\n",
        "print('s')"
      ],
      "metadata": {
        "id": "v5bkrgf60_qx",
        "colab": {
          "base_uri": "https://localhost:8080/"
        },
        "outputId": "76b7d932-9323-4cb4-d808-750f6454d1b5"
      },
      "execution_count": null,
      "outputs": [
        {
          "output_type": "stream",
          "name": "stdout",
          "text": [
            "L\n",
            "u\n",
            "c\n",
            "a\n",
            "s\n"
          ]
        }
      ]
    },
    {
      "cell_type": "markdown",
      "source": [
        "### Questão 4\n",
        "Imprima o dia do seu nascimento em formato `dia mês ano`. Os valores de dia e ano não podem estar entre aspas. O formato deve estar como no exemplo, supondo uma data de aniversário dia 28 de fevereiro de 2003:\n",
        "```\n",
        "28 fevereiro 2003\n",
        "```"
      ],
      "metadata": {
        "id": "oadrJbl704MM"
      }
    },
    {
      "cell_type": "code",
      "source": [
        "print(7, 'julho', 1995)"
      ],
      "metadata": {
        "id": "cx0KSsrq1ALD",
        "colab": {
          "base_uri": "https://localhost:8080/"
        },
        "outputId": "e31103fb-092c-478f-92b6-183dbcecefb4"
      },
      "execution_count": null,
      "outputs": [
        {
          "output_type": "stream",
          "name": "stdout",
          "text": [
            "7 julho 1995\n"
          ]
        }
      ]
    },
    {
      "cell_type": "markdown",
      "source": [
        "### Questão 5\n",
        "Imprima em um único print o atual ano que você está fazendo esse curso, o valor do ano deve ser um dado numérico. A saída do print deve ser a seguinte:\n",
        "```\n",
        "Ano atual: [ano]\n",
        "```\n"
      ],
      "metadata": {
        "id": "3RgyMaan04TD"
      }
    },
    {
      "cell_type": "code",
      "execution_count": null,
      "metadata": {
        "id": "UN77EfQ2d36Y",
        "colab": {
          "base_uri": "https://localhost:8080/"
        },
        "outputId": "99939e98-af86-406d-a5e9-736945647790"
      },
      "outputs": [
        {
          "output_type": "stream",
          "name": "stdout",
          "text": [
            "Ano atual: 2024\n"
          ]
        }
      ],
      "source": [
        "print('Ano atual:', 2024)"
      ]
    },
    {
      "cell_type": "markdown",
      "source": [
        "## Aula 2 - Manipulando dados no Python"
      ],
      "metadata": {
        "id": "D9e3FqhO1S3X"
      }
    },
    {
      "cell_type": "markdown",
      "source": [
        "### Coleta e amostragem de dados"
      ],
      "metadata": {
        "id": "n6o7C1Ze2cRe"
      }
    },
    {
      "cell_type": "markdown",
      "source": [
        "#### Questão 1\n",
        "Crie um programa que solicite à pessoa usuária digitar seu nome, e imprima “Olá, [nome]!”."
      ],
      "metadata": {
        "id": "sRneWag9PV5Q"
      }
    },
    {
      "cell_type": "code",
      "source": [
        "nome = input(\"Digite o seu nome: \")\n",
        "print(f\"Olá, {nome}\")"
      ],
      "metadata": {
        "id": "dbX1fKqy2HnE",
        "colab": {
          "base_uri": "https://localhost:8080/"
        },
        "outputId": "eaff15c7-030d-4365-c9c2-c797e07ecfd4"
      },
      "execution_count": null,
      "outputs": [
        {
          "output_type": "stream",
          "name": "stdout",
          "text": [
            "Digite o seu nome: Lucas\n",
            "Olá, Lucas\n"
          ]
        }
      ]
    },
    {
      "cell_type": "markdown",
      "source": [
        "#### Questão 2\n",
        "Crie um programa que solicite à pessoa usuária digitar seu nome e idade, e imprima “Olá, [nome], você tem [idade] anos.”."
      ],
      "metadata": {
        "id": "BJ1SznEp70d5"
      }
    },
    {
      "cell_type": "code",
      "source": [
        "nome = input(\"Digite o seu nome: \")\n",
        "idade = int(input(\"Digite a sua idade: \"))\n",
        "print(f\"Olá, {nome}. Você tem {idade} anos\")"
      ],
      "metadata": {
        "id": "jKz-0Sq8PFkp",
        "colab": {
          "base_uri": "https://localhost:8080/"
        },
        "outputId": "0846173c-6700-4500-a7b0-64215e0d762d"
      },
      "execution_count": null,
      "outputs": [
        {
          "output_type": "stream",
          "name": "stdout",
          "text": [
            "Digite o seu nome: Lucas\n",
            "Digite a sua idade: 24\n",
            "Olá, Lucas. Você tem 24 anos\n"
          ]
        }
      ]
    },
    {
      "cell_type": "markdown",
      "source": [
        "#### Questão 3\n",
        "Crie um programa que solicite à pessoa usuária digitar seu nome, idade e altura em metros, e imprima “Olá, [nome], você tem [idade] anos e mede [altura] metros!”."
      ],
      "metadata": {
        "id": "2T0jNYZt70aa"
      }
    },
    {
      "cell_type": "code",
      "source": [
        "nome = input(\"Digite o seu nome: \")\n",
        "idade = int(input(\"Digite a sua idade: \"))\n",
        "altura = float(input(\"Digite a sua altura em metros: \"))\n",
        "print(f\"Olá, {nome}. Você tem {idade} anos e mede {altura} metros!\")"
      ],
      "metadata": {
        "id": "pI4kHNzTPIXh",
        "colab": {
          "base_uri": "https://localhost:8080/"
        },
        "outputId": "4d4bcec2-8c4f-4d73-b8a7-166f512a7ea9"
      },
      "execution_count": null,
      "outputs": [
        {
          "output_type": "stream",
          "name": "stdout",
          "text": [
            "Digite o seu nome: Lucas\n",
            "Digite a sua idade: 29\n",
            "Digite a sua altura em metros: 1.76\n",
            "Olá, Lucas. Você tem 29 anos e mede 1.76 metros!\n"
          ]
        }
      ]
    },
    {
      "cell_type": "markdown",
      "source": [
        "### Calculadora com operadores"
      ],
      "metadata": {
        "id": "mEBFwKkC70KP"
      }
    },
    {
      "cell_type": "markdown",
      "source": [
        "#### Questão 1\n",
        "\n",
        "Crie um programa que solicite dois valores numéricos à pessoa usuária e imprima a soma dos dois valores."
      ],
      "metadata": {
        "id": "H-IV1oAPPSqK"
      }
    },
    {
      "cell_type": "code",
      "source": [
        "num1 = float(input(\"Digite o um numero: \"))\n",
        "num2 = float(input(\"Digite o um numero: \"))\n",
        "soma = num1 + num2\n",
        "soma"
      ],
      "metadata": {
        "id": "Zb0W84sy8rnp",
        "colab": {
          "base_uri": "https://localhost:8080/"
        },
        "outputId": "f0d1dcdd-21c2-4d3f-f645-b3c4cbd75ba9"
      },
      "execution_count": null,
      "outputs": [
        {
          "name": "stdout",
          "output_type": "stream",
          "text": [
            "Digite o um numero: 2\n",
            "Digite o um numero: 4\n"
          ]
        },
        {
          "output_type": "execute_result",
          "data": {
            "text/plain": [
              "6.0"
            ]
          },
          "metadata": {},
          "execution_count": 4
        }
      ]
    },
    {
      "cell_type": "markdown",
      "source": [
        "#### Questão 2\n",
        "Crie um programa que solicite três valores numéricos à pessoa usuária e imprima a soma dos três valores."
      ],
      "metadata": {
        "id": "LUoi2MOu70Em"
      }
    },
    {
      "cell_type": "code",
      "source": [
        "num1 = float(input(\"Digite o um numero: \"))\n",
        "num2 = float(input(\"Digite o um numero: \"))\n",
        "num3 = float(input(\"Digite o um numero: \"))\n",
        "soma = num1 + num2 + num3\n",
        "soma"
      ],
      "metadata": {
        "id": "4FYjWyBS8rDm",
        "colab": {
          "base_uri": "https://localhost:8080/"
        },
        "outputId": "e6aa9b49-2c68-4b5a-a2e0-02b0ec7e5234"
      },
      "execution_count": null,
      "outputs": [
        {
          "name": "stdout",
          "output_type": "stream",
          "text": [
            "Digite o um numero: 3\n",
            "Digite o um numero: 2\n",
            "Digite o um numero: 4\n"
          ]
        },
        {
          "output_type": "execute_result",
          "data": {
            "text/plain": [
              "9.0"
            ]
          },
          "metadata": {},
          "execution_count": 5
        }
      ]
    },
    {
      "cell_type": "markdown",
      "source": [
        "#### Questão 3\n",
        "Crie um programa que solicite dois valores numéricos à pessoa usuária e imprima a subtração do primeiro pelo o segundo valor."
      ],
      "metadata": {
        "id": "lezGctF07z8i"
      }
    },
    {
      "cell_type": "code",
      "source": [
        "num1 = float(input(\"Digite o um numero: \"))\n",
        "num2 = float(input(\"Digite o um numero: \"))\n",
        "sub = num1 - num2\n",
        "sub"
      ],
      "metadata": {
        "id": "k0GE1z4w8p3J",
        "colab": {
          "base_uri": "https://localhost:8080/"
        },
        "outputId": "4f424b16-af66-4c55-86f1-e78b1f827a98"
      },
      "execution_count": null,
      "outputs": [
        {
          "name": "stdout",
          "output_type": "stream",
          "text": [
            "Digite o um numero: 10\n",
            "Digite o um numero: 2\n"
          ]
        },
        {
          "output_type": "execute_result",
          "data": {
            "text/plain": [
              "8.0"
            ]
          },
          "metadata": {},
          "execution_count": 6
        }
      ]
    },
    {
      "cell_type": "markdown",
      "source": [
        "#### Questão 4\n",
        "\n",
        "Crie um programa que solicite dois valores numéricos à pessoa usuária e imprima a multiplicação dos dois valores.\n"
      ],
      "metadata": {
        "id": "wwMP-dPU7zxW"
      }
    },
    {
      "cell_type": "code",
      "source": [
        "num1 = float(input(\"Digite o um numero: \"))\n",
        "num2 = float(input(\"Digite o um numero: \"))\n",
        "mult = num1 * num2\n",
        "mult"
      ],
      "metadata": {
        "id": "GzFCVHfp8peZ",
        "colab": {
          "base_uri": "https://localhost:8080/"
        },
        "outputId": "22cdd97f-2318-4ab7-93d0-ca5a1425ffb9"
      },
      "execution_count": null,
      "outputs": [
        {
          "name": "stdout",
          "output_type": "stream",
          "text": [
            "Digite o um numero: 2\n",
            "Digite o um numero: 5\n"
          ]
        },
        {
          "output_type": "execute_result",
          "data": {
            "text/plain": [
              "10.0"
            ]
          },
          "metadata": {},
          "execution_count": 7
        }
      ]
    },
    {
      "cell_type": "markdown",
      "source": [
        "#### Questão 5\n",
        "\n",
        "Crie um programa que solicite dois valores numéricos, um numerador e um denominador, e realize a divisão entre os dois valores. Deixe claro que o valor do denominador não pode ser `0`.\n"
      ],
      "metadata": {
        "id": "9kxyHxUo7zRD"
      }
    },
    {
      "cell_type": "code",
      "source": [
        "num1 = float(input(\"Digite o um numero: \"))\n",
        "num2 = float(input(\"Digite o um numero que não seja 0: \"))\n",
        "div = num1 / num2\n",
        "div"
      ],
      "metadata": {
        "id": "ytJ8l5KH8ozc",
        "colab": {
          "base_uri": "https://localhost:8080/"
        },
        "outputId": "3511b1c3-a3c3-4e1d-f8bc-09b6897d4c44"
      },
      "execution_count": null,
      "outputs": [
        {
          "name": "stdout",
          "output_type": "stream",
          "text": [
            "Digite o um numero: 6\n",
            "Digite o um numero que não seja 0: 2\n"
          ]
        },
        {
          "output_type": "execute_result",
          "data": {
            "text/plain": [
              "3.0"
            ]
          },
          "metadata": {},
          "execution_count": 8
        }
      ]
    },
    {
      "cell_type": "markdown",
      "source": [
        "#### Questão 6\n",
        "\n",
        "Crie um programa que solicite dois valores numéricos, um operador e uma potência, e realize a exponenciação entre esses dois valores.\n"
      ],
      "metadata": {
        "id": "zkUSBTQq8Hxt"
      }
    },
    {
      "cell_type": "code",
      "source": [
        "num1 = float(input(\"Digite o um numero: \"))\n",
        "num2 = float(input(\"Digite o um numero: \"))\n",
        "exp = num1 ** num2\n",
        "exp"
      ],
      "metadata": {
        "id": "RPj36jq08oZp",
        "colab": {
          "base_uri": "https://localhost:8080/"
        },
        "outputId": "d370de6e-46f0-4c21-85a5-7b862c01a7da"
      },
      "execution_count": null,
      "outputs": [
        {
          "name": "stdout",
          "output_type": "stream",
          "text": [
            "Digite o um numero: 2\n",
            "Digite o um numero: 3\n"
          ]
        },
        {
          "output_type": "execute_result",
          "data": {
            "text/plain": [
              "8.0"
            ]
          },
          "metadata": {},
          "execution_count": 9
        }
      ]
    },
    {
      "cell_type": "markdown",
      "source": [
        "#### Questão 7\n",
        "Crie um programa que solicite dois valores numéricos, um numerador e um denominador e realize a divisão inteira entre os dois valores. Deixe claro que o valor do denominador não pode ser `0`."
      ],
      "metadata": {
        "id": "yiunIusZ8Huj"
      }
    },
    {
      "cell_type": "code",
      "source": [
        "num1 = float(input(\"Digite o um numero: \"))\n",
        "num2 = float(input(\"Digite o um numero que não seja 0: \"))\n",
        "divInt = num1 // num2\n",
        "divInt"
      ],
      "metadata": {
        "id": "UHK8xITf8oCg",
        "colab": {
          "base_uri": "https://localhost:8080/"
        },
        "outputId": "fffc96f3-c073-41fa-9213-baab63e733ea"
      },
      "execution_count": null,
      "outputs": [
        {
          "name": "stdout",
          "output_type": "stream",
          "text": [
            "Digite o um numero: 5\n",
            "Digite o um numero que não seja 0: 2\n"
          ]
        },
        {
          "output_type": "execute_result",
          "data": {
            "text/plain": [
              "2.0"
            ]
          },
          "metadata": {},
          "execution_count": 10
        }
      ]
    },
    {
      "cell_type": "markdown",
      "source": [
        "#### Questão 8\n",
        "\n",
        "Crie um programa que solicite dois valores numéricos, um numerador e um denominador, e retorne o resto da divisão entre os dois valores. Deixe claro que o valor do denominador não pode ser `0`."
      ],
      "metadata": {
        "id": "z_D_JiLX8Hra"
      }
    },
    {
      "cell_type": "code",
      "source": [
        "num1 = float(input(\"Digite o um numero: \"))\n",
        "num2 = float(input(\"Digite o um numero que não seja 0: \"))\n",
        "divRest = num1 % num2\n",
        "divRest"
      ],
      "metadata": {
        "id": "EWGJeukO8nqx",
        "colab": {
          "base_uri": "https://localhost:8080/"
        },
        "outputId": "5a1faae1-f3f2-4aa8-f575-b7c6a8224671"
      },
      "execution_count": null,
      "outputs": [
        {
          "name": "stdout",
          "output_type": "stream",
          "text": [
            "Digite o um numero: 5\n",
            "Digite o um numero que não seja 0: 2\n"
          ]
        },
        {
          "output_type": "execute_result",
          "data": {
            "text/plain": [
              "1.0"
            ]
          },
          "metadata": {},
          "execution_count": 11
        }
      ]
    },
    {
      "cell_type": "markdown",
      "source": [
        "#### Questão 9\n",
        "\n",
        "Crie um código que solicita 3 notas de um estudante e imprima a média das notas."
      ],
      "metadata": {
        "id": "RDRajNkU8N8N"
      }
    },
    {
      "cell_type": "code",
      "source": [
        "n1 = float(input(\"Digite a primeira nota: \"))\n",
        "n2 = float(input(\"Digite a segunda nota: \"))\n",
        "n3 = float(input(\"Digite a terceira nota: \"))\n",
        "media = (n1 + n2 + n3) / 3\n",
        "media"
      ],
      "metadata": {
        "id": "H6F4Ojzt8nSR",
        "colab": {
          "base_uri": "https://localhost:8080/"
        },
        "outputId": "d5b59281-d391-4b96-d108-f22c7812f61b"
      },
      "execution_count": null,
      "outputs": [
        {
          "name": "stdout",
          "output_type": "stream",
          "text": [
            "Digite a primeira nota: 5\n",
            "Digite a segunda nota: 7\n",
            "Digite a terceira nota: 8\n"
          ]
        },
        {
          "output_type": "execute_result",
          "data": {
            "text/plain": [
              "6.666666666666667"
            ]
          },
          "metadata": {},
          "execution_count": 12
        }
      ]
    },
    {
      "cell_type": "markdown",
      "source": [
        "#### Questão 10\n",
        "\n",
        "Crie um código que calcule e imprima a média ponderada dos números 5, 12, 20 e 15 com pesos respectivamente iguais a 1, 2, 3 e 4."
      ],
      "metadata": {
        "id": "d7fjkne58N21"
      }
    },
    {
      "cell_type": "code",
      "source": [
        "media = (5*1 + 12*2 + 20*3 + 15*4)/4\n",
        "media"
      ],
      "metadata": {
        "id": "fwjoHlV48mkv",
        "colab": {
          "base_uri": "https://localhost:8080/"
        },
        "outputId": "574f7aeb-e701-4aca-82dc-667642f501c3"
      },
      "execution_count": null,
      "outputs": [
        {
          "output_type": "execute_result",
          "data": {
            "text/plain": [
              "37.25"
            ]
          },
          "metadata": {},
          "execution_count": 13
        }
      ]
    },
    {
      "cell_type": "markdown",
      "source": [
        "### Editando textos"
      ],
      "metadata": {
        "id": "GNmbX1OU8N0V"
      }
    },
    {
      "cell_type": "markdown",
      "source": [
        "#### Questão 1\n",
        "\n",
        "Crie uma variável chamada “`frase`” e atribua a ela uma string de sua escolha. Em seguida, imprima a frase na tela."
      ],
      "metadata": {
        "id": "6wZ85mCsRCV0"
      }
    },
    {
      "cell_type": "code",
      "source": [
        "frase = \"Olá Mundo\"\n",
        "frase"
      ],
      "metadata": {
        "id": "eRqr_gh-8mFy",
        "colab": {
          "base_uri": "https://localhost:8080/"
        },
        "outputId": "1274062e-57ef-4546-be06-df44e37b45b9"
      },
      "execution_count": null,
      "outputs": [
        {
          "output_type": "execute_result",
          "data": {
            "text/plain": [
              "'Olá Mundo'"
            ],
            "application/vnd.google.colaboratory.intrinsic+json": {
              "type": "string"
            }
          },
          "metadata": {},
          "execution_count": 14
        }
      ]
    },
    {
      "cell_type": "markdown",
      "source": [
        "#### Questão 2\n",
        "Crie um código que solicite uma frase e depois imprima a frase na tela."
      ],
      "metadata": {
        "id": "Aac17z-18Nwv"
      }
    },
    {
      "cell_type": "code",
      "source": [
        "frase = input(\"Escreva uma frase: \")\n",
        "print(frase)"
      ],
      "metadata": {
        "id": "8zfE2hh98lb0",
        "colab": {
          "base_uri": "https://localhost:8080/"
        },
        "outputId": "4755bbb7-7d4b-4b07-cd6c-7d1fd1cd6882"
      },
      "execution_count": null,
      "outputs": [
        {
          "output_type": "stream",
          "name": "stdout",
          "text": [
            "Escreva uma frase: Olá Mundo!\n",
            "Olá Mundo!\n"
          ]
        }
      ]
    },
    {
      "cell_type": "markdown",
      "source": [
        "#### Questão 3\n",
        "\n",
        "Crie um código que solicite uma frase à pessoa usuária e imprima a mesma frase digitada mas com todas as letras maiúsculas."
      ],
      "metadata": {
        "id": "DXVzqpN58Ntr"
      }
    },
    {
      "cell_type": "code",
      "source": [
        "frase = input(\"Escreva uma frase: \")\n",
        "print(frase.upper())"
      ],
      "metadata": {
        "id": "d0VzoYP68k-I",
        "colab": {
          "base_uri": "https://localhost:8080/"
        },
        "outputId": "7162d501-dff4-4570-dd98-813045c49b89"
      },
      "execution_count": null,
      "outputs": [
        {
          "output_type": "stream",
          "name": "stdout",
          "text": [
            "Escreva uma frase: Testando uma frase\n",
            "TESTANDO UMA FRASE\n"
          ]
        }
      ]
    },
    {
      "cell_type": "markdown",
      "source": [
        "#### Questão 4\n",
        "\n",
        "Crie um código que solicite uma frase à pessoa usuária e imprima a mesma frase digitada mas com todas as letras minúsculas."
      ],
      "metadata": {
        "id": "I12VeNPK8Nqb"
      }
    },
    {
      "cell_type": "code",
      "source": [
        "frase = input(\"Escreva uma frase: \")\n",
        "print(frase.lower())"
      ],
      "metadata": {
        "id": "KD8rNy2K8kox",
        "colab": {
          "base_uri": "https://localhost:8080/"
        },
        "outputId": "a961c98e-7ec9-4c8e-9aa5-e3f8cd1103f2"
      },
      "execution_count": null,
      "outputs": [
        {
          "output_type": "stream",
          "name": "stdout",
          "text": [
            "Escreva uma frase: TESTE DE MANIPULAÇÃO DE STRING\n",
            "teste de manipulação de string\n"
          ]
        }
      ]
    },
    {
      "cell_type": "markdown",
      "source": [
        "#### Questão 5\n",
        "\n",
        "Crie uma variável chamada “`frase`” e atribua a ela uma string de sua escolha. Em seguida, imprima a frase sem espaços em branco no início e no fim."
      ],
      "metadata": {
        "id": "cRqngSE48Nog"
      }
    },
    {
      "cell_type": "code",
      "source": [
        "frase = input(\"Escreva uma frase: \")\n",
        "print(frase.strip())"
      ],
      "metadata": {
        "id": "aSCpdF-o8kBs",
        "colab": {
          "base_uri": "https://localhost:8080/"
        },
        "outputId": "9ad0a068-d7bb-461e-fd28-87c5231391f1"
      },
      "execution_count": null,
      "outputs": [
        {
          "output_type": "stream",
          "name": "stdout",
          "text": [
            "Escreva uma frase:     teste de string    \n",
            "teste de string\n"
          ]
        }
      ]
    },
    {
      "cell_type": "markdown",
      "source": [
        "#### Questão 6\n",
        "\n",
        "Crie um código que solicite uma frase à pessoa usuária e imprima a mesma frase sem espaços em branco no início e no fim."
      ],
      "metadata": {
        "id": "murIazpQ8Nkv"
      }
    },
    {
      "cell_type": "code",
      "source": [
        "frase = input(\"Escreva uma frase: \")\n",
        "print(frase.strip())"
      ],
      "metadata": {
        "id": "tHunjwuG8jNq",
        "colab": {
          "base_uri": "https://localhost:8080/"
        },
        "outputId": "217badbf-ddf6-4701-f5da-f70ec322e6ea"
      },
      "execution_count": null,
      "outputs": [
        {
          "output_type": "stream",
          "name": "stdout",
          "text": [
            "Escreva uma frase:  Teste de texto    \n",
            "Teste de texto\n"
          ]
        }
      ]
    },
    {
      "cell_type": "markdown",
      "source": [
        "#### Questão 7\n",
        "\n",
        "\n",
        "Crie um código que solicite uma frase à pessoa usuária e imprima a mesma frase sem espaços em branco no início e no fim e em letras minúsculas."
      ],
      "metadata": {
        "id": "eRxc2OeX8Nh2"
      }
    },
    {
      "cell_type": "code",
      "source": [
        "frase = input(\"Escreva uma frase: \")\n",
        "print(frase.strip().lower())"
      ],
      "metadata": {
        "id": "DYm0_UwS8ih6",
        "colab": {
          "base_uri": "https://localhost:8080/"
        },
        "outputId": "291086bd-a314-4ed8-c7f2-5f96dbacb99c"
      },
      "execution_count": null,
      "outputs": [
        {
          "output_type": "stream",
          "name": "stdout",
          "text": [
            "Escreva uma frase:       TESTANDO    \n",
            "testando\n"
          ]
        }
      ]
    },
    {
      "cell_type": "markdown",
      "source": [
        "#### Questão 8\n",
        "\n",
        "Crie um código que solicite uma frase à pessoa usuária e imprima a mesma frase com todas as vogais “`e`” trocadas pela letra “`f`”."
      ],
      "metadata": {
        "id": "UKATLavs8NfI"
      }
    },
    {
      "cell_type": "code",
      "source": [
        "frase = input(\"Escreva uma frase: \")\n",
        "print(frase.replace('e', 'f'))"
      ],
      "metadata": {
        "id": "k64C5G5S8iLO",
        "colab": {
          "base_uri": "https://localhost:8080/"
        },
        "outputId": "ee491df9-95c4-469c-ecbd-59f82d770283"
      },
      "execution_count": null,
      "outputs": [
        {
          "output_type": "stream",
          "name": "stdout",
          "text": [
            "Escreva uma frase: Teste de troca de letras\n",
            "Tfstf df troca df lftras\n"
          ]
        }
      ]
    },
    {
      "cell_type": "markdown",
      "source": [
        "#### Questão 9\n",
        "\n",
        "\n",
        "Crie um código que solicite uma frase à pessoa usuária e imprima a mesma frase com todas as vogais “`a`” trocadas pela caractere  “`@`”."
      ],
      "metadata": {
        "id": "n_1SPchw8NdG"
      }
    },
    {
      "cell_type": "code",
      "source": [
        "frase = input(\"Escreva uma frase: \")\n",
        "print(frase.replace('a', '@'))"
      ],
      "metadata": {
        "id": "msaDNm_p8h0D",
        "colab": {
          "base_uri": "https://localhost:8080/"
        },
        "outputId": "0db828dc-6a24-4cd8-eec6-9d34d6590ac5"
      },
      "execution_count": null,
      "outputs": [
        {
          "output_type": "stream",
          "name": "stdout",
          "text": [
            "Escreva uma frase: Vamos programar\n",
            "V@mos progr@m@r\n"
          ]
        }
      ]
    },
    {
      "cell_type": "markdown",
      "source": [
        "#### Questão 10\n",
        "\n",
        "\n",
        "Crie um código que solicite uma frase à pessoa usuária e imprima a mesma frase com todas as consoantes “`s`” trocadas pelo caractere  “`$`”."
      ],
      "metadata": {
        "id": "H3sTTjqI8Naa"
      }
    },
    {
      "cell_type": "code",
      "source": [
        "frase = input(\"Escreva uma frase: \")\n",
        "print(frase.replace('s', '$'))"
      ],
      "metadata": {
        "id": "RPBIsWT68e-1",
        "colab": {
          "base_uri": "https://localhost:8080/"
        },
        "outputId": "e8cbefb8-9e74-4fce-a287-21c6630ae0b0"
      },
      "execution_count": null,
      "outputs": [
        {
          "output_type": "stream",
          "name": "stdout",
          "text": [
            "Escreva uma frase: nossa senhora\n",
            "no$$a $enhora\n"
          ]
        }
      ]
    },
    {
      "cell_type": "markdown",
      "source": [
        "## Aula 3 - Estruturas condicionais"
      ],
      "metadata": {
        "id": "XGePe4GD2I59"
      }
    },
    {
      "cell_type": "markdown",
      "source": [
        "### Aquecendo na programação"
      ],
      "metadata": {
        "id": "Pr9HTW0UHCdD"
      }
    },
    {
      "cell_type": "markdown",
      "source": [
        "#### Questão 1\n",
        "Escreva um programa que peça à pessoa usuária para fornecer dois números e exibir o número maior."
      ],
      "metadata": {
        "id": "xBZHqhVg80Fy"
      }
    },
    {
      "cell_type": "code",
      "source": [
        "num1 = float(input(\"Digite um numero: \"))\n",
        "num2 = float(input(\"Digite um numero: \"))\n",
        "if num1 > num2:\n",
        "  print(f\"O maior numero é {num1}\")\n",
        "else:\n",
        "  print(f\"O maior numero é {num2}\")"
      ],
      "metadata": {
        "id": "GJlGnzjc-xyF",
        "colab": {
          "base_uri": "https://localhost:8080/"
        },
        "outputId": "15a94561-60ea-4d67-9f4e-8e5eaccc8593"
      },
      "execution_count": null,
      "outputs": [
        {
          "output_type": "stream",
          "name": "stdout",
          "text": [
            "Digite um numero: 3\n",
            "Digite um numero: 8\n",
            "O maior numero é 8.0\n"
          ]
        }
      ]
    },
    {
      "cell_type": "markdown",
      "source": [
        "#### Questão 2\n",
        "Escreva um programa que solicite o percentual de crescimento de produção de uma empresa e informe se houve um crescimento (porcentagem positiva) ou decrescimento (porcentagem negativa)."
      ],
      "metadata": {
        "id": "H4sgN7dyHNJF"
      }
    },
    {
      "cell_type": "code",
      "source": [
        "porc = float(input(\"Digite a porcentagem de crescimento: \"))\n",
        "if porc > 0:\n",
        "  print(\"A empresa cresceu\")\n",
        "else:\n",
        "  print(\"A empresa descresceu\")"
      ],
      "metadata": {
        "id": "-2_Ry5XJ-yZW",
        "colab": {
          "base_uri": "https://localhost:8080/"
        },
        "outputId": "00941951-9090-4033-df16-021c8f577c56"
      },
      "execution_count": null,
      "outputs": [
        {
          "output_type": "stream",
          "name": "stdout",
          "text": [
            "Digite a porcentagem de crescimento: -10\n",
            "A empresa descresceu\n"
          ]
        }
      ]
    },
    {
      "cell_type": "markdown",
      "source": [
        "#### Questão 3\n",
        "Escreva um programa que determine se uma letra fornecida pela pessoa usuária é uma vogal ou consoante."
      ],
      "metadata": {
        "id": "a_mzNOBDHNny"
      }
    },
    {
      "cell_type": "code",
      "source": [
        "letra = input(\"Digite uma letra: \")\n",
        "if letra == \"a\" or letra == \"e\" or letra == \"i\" or letra == \"o\" or letra == \"u\":\n",
        "  print(\"A letra digitada é uma vogal\")\n",
        "else:\n",
        "  print(\"A letra digitada é uma consoante\")"
      ],
      "metadata": {
        "id": "NbgndVyg-zFJ",
        "colab": {
          "base_uri": "https://localhost:8080/"
        },
        "outputId": "e99c27f1-3859-4290-bdf2-242a8fc7d04c"
      },
      "execution_count": null,
      "outputs": [
        {
          "output_type": "stream",
          "name": "stdout",
          "text": [
            "Digite uma letra: c\n",
            "A letra digitada é uma consoante\n"
          ]
        }
      ]
    },
    {
      "cell_type": "markdown",
      "source": [
        "#### Questão 4\n",
        "Escreva um programa que leia valores médios de preços de um modelo de carro por 3 anos consecutivos e exiba o valor mais alto e mais baixo entre esses três anos."
      ],
      "metadata": {
        "id": "mofMRjSZHP99"
      }
    },
    {
      "cell_type": "code",
      "source": [
        "from logging import setLogRecordFactory\n",
        "priAno = 60000\n",
        "segAno = 55000\n",
        "terAno = 52000\n",
        "\n",
        "if priAno > segAno or priAno > terAno:\n",
        "  print(f\"O valor mais alto é de {priAno}\")\n",
        "  if segAno < terAno:\n",
        "    print(f\"O valor mais baixo é o de {segAno}\")\n",
        "  else:\n",
        "    print(f\"O valor mais baixo é o de {terAno}\")\n",
        "elif segAno > priAno or segAno > terAno:\n",
        "  print(f\"O valor mais alto é de {segAno}\")\n",
        "  if priAno < terAno:\n",
        "    print(f\"O valor mais baixo é o de {priAno}\")\n",
        "  else:\n",
        "    print(f\"O valor mais baixo é o de {terAno}\")\n",
        "elif terAno > priAno or terAno > segAno:\n",
        "  print(f\"O valor mais alto é de {terAno}\")\n",
        "  if priAno < segAno:\n",
        "    print(f\"O valor mais baixo é o de {priAno}\")\n",
        "  else:\n",
        "    print(f\"O valor mais baixo é o de {segAno}\")"
      ],
      "metadata": {
        "id": "TX--d3k9-02c",
        "colab": {
          "base_uri": "https://localhost:8080/"
        },
        "outputId": "4d77a873-ccae-4ee5-ebb0-2561f88ad34b"
      },
      "execution_count": null,
      "outputs": [
        {
          "output_type": "stream",
          "name": "stdout",
          "text": [
            "O valor mais alto é de 60000\n",
            "O valor mais baixo é o de 52000\n"
          ]
        }
      ]
    },
    {
      "cell_type": "markdown",
      "source": [
        "#### Questão 5\n",
        "Escreva um programa que pergunte sobre o preço de três produtos e indique qual é o produto mais barato para comprar."
      ],
      "metadata": {
        "id": "jY5tIwd-HQzc"
      }
    },
    {
      "cell_type": "code",
      "source": [
        "preco1 = 10.50\n",
        "preco2 = 18.99\n",
        "preco3 = 11.00\n",
        "\n",
        "if preco1 < preco2 and preco1 < preco3:\n",
        "  print(f\"O menor preço é de {preco1}\")\n",
        "elif preco2 < preco1 and preco2 < preco3:\n",
        "  print(f\"O menor preço é de {preco2}\")\n",
        "elif preco3 < preco1 and preco3 < preco2:\n",
        "  print(f\"O menor preço é de {preco3}\")"
      ],
      "metadata": {
        "id": "sYqNh9df-0gk",
        "colab": {
          "base_uri": "https://localhost:8080/"
        },
        "outputId": "c41d6211-33a1-4be9-a6cc-200710dea591"
      },
      "execution_count": null,
      "outputs": [
        {
          "output_type": "stream",
          "name": "stdout",
          "text": [
            "O menor preço é de 10.5\n"
          ]
        }
      ]
    },
    {
      "cell_type": "markdown",
      "source": [
        "#### Questão 6\n",
        "Escreva um programa que leia três números e os exiba em ordem decrescente."
      ],
      "metadata": {
        "id": "1r6aVxtTHR4E"
      }
    },
    {
      "cell_type": "code",
      "source": [
        "num1 = 5\n",
        "num2 = 7\n",
        "num3 = 13\n",
        "pri = 0\n",
        "seg = 0\n",
        "ter = 0\n",
        "\n",
        "if num1 > num2 and num1 > num3:\n",
        "  pri = num1\n",
        "  if num2 > num3:\n",
        "    seg = num2\n",
        "    ter = num3\n",
        "  else:\n",
        "    seg = num3\n",
        "    ter = num2\n",
        "elif num2 > num1 and num2 > num3:\n",
        "  pri = num2\n",
        "  if num1 > num3:\n",
        "    seg = num1\n",
        "    ter = num3\n",
        "  else:\n",
        "    seg = num3\n",
        "    ter = num1\n",
        "else:\n",
        "  pri = num3\n",
        "  if num1 > num2:\n",
        "    seg = num1\n",
        "    ter = num2\n",
        "  else:\n",
        "    seg = num2\n",
        "    ter = num1\n",
        "\n",
        "print(f\"O primeiro numero mais alto é {pri}, o segundo mais é {seg}, o terceito mais é {ter}\")\n"
      ],
      "metadata": {
        "id": "ydOCYUMO-0Hk",
        "colab": {
          "base_uri": "https://localhost:8080/"
        },
        "outputId": "a32f4d45-45cb-4ee0-9bb5-5fde71b1d3a3"
      },
      "execution_count": null,
      "outputs": [
        {
          "output_type": "stream",
          "name": "stdout",
          "text": [
            "O primeiro numero mais alto é 13, o segundo mais é 7, o terceito mais é 5\n"
          ]
        }
      ]
    },
    {
      "cell_type": "markdown",
      "source": [
        "#### Questão 7\n",
        "Escreva um programa que pergunte em qual turno a pessoa usuária estuda (\"manhã\", \"tarde\" ou \"noite\") e exiba a mensagem \"Bom Dia!\", \"Boa Tarde!\", \"Boa Noite!\", ou \"Valor Inválido!\", conforme o caso."
      ],
      "metadata": {
        "id": "inW3F-hAHS_X"
      }
    },
    {
      "cell_type": "code",
      "source": [
        "periodo = input(\"Em qual período você estuda? \")\n",
        "\n",
        "if periodo == \"manhã\":\n",
        "  print(\"Bom Dia!\")\n",
        "elif periodo == \"tarde\":\n",
        "  print(\"Boa Tarde!\")\n",
        "elif periodo == \"noite\":\n",
        "  print(\"Boa Noite!\")\n",
        "else:\n",
        "  print(\"Valor Inválido!\")"
      ],
      "metadata": {
        "id": "-_q-Pcr_-zth",
        "colab": {
          "base_uri": "https://localhost:8080/"
        },
        "outputId": "26607ae7-b6fe-4a77-f95a-8e00d03d9350"
      },
      "execution_count": null,
      "outputs": [
        {
          "output_type": "stream",
          "name": "stdout",
          "text": [
            "Em qual período você estuda? tarde\n",
            "Boa Tarde!\n"
          ]
        }
      ]
    },
    {
      "cell_type": "markdown",
      "source": [
        "#### Questão 8\n",
        "Escreva um programa que peça um número inteiro à pessoa usuária e determine se ele é par ou ímpar. Dica: Você pode utilizar o operador módulo `%`."
      ],
      "metadata": {
        "id": "NCCPF3QqHTw-"
      }
    },
    {
      "cell_type": "code",
      "source": [
        "num = int(input(\"Digite um numer: \"))\n",
        "\n",
        "if(num % 2) == 0:\n",
        "  print(\"O numero é par\")\n",
        "else:\n",
        "  print(\"O numero é impar\")"
      ],
      "metadata": {
        "id": "OmZJt1nQ-3e6",
        "colab": {
          "base_uri": "https://localhost:8080/"
        },
        "outputId": "f4e65823-a4a2-4aa3-b1fb-30b4a2bb3f4d"
      },
      "execution_count": null,
      "outputs": [
        {
          "output_type": "stream",
          "name": "stdout",
          "text": [
            "Digite um numer: 5\n",
            "O numero é impar\n"
          ]
        }
      ]
    },
    {
      "cell_type": "markdown",
      "source": [
        "#### Questão 9\n",
        "Escreva um programa que peça um número à pessoa usuária e informe se ele é inteiro ou decimal."
      ],
      "metadata": {
        "id": "h93Ck1tQHUwE"
      }
    },
    {
      "cell_type": "code",
      "source": [
        "numero = float(input(\"Digita um numero: \"))\n",
        "numInt = int(numero)\n",
        "\n",
        "if (numero - numInt) == 0:\n",
        "  print(\"O numero é inteiro\")\n",
        "else:\n",
        "  print(\"O numero é decimal\")"
      ],
      "metadata": {
        "id": "sLMlZcx8-20N",
        "colab": {
          "base_uri": "https://localhost:8080/"
        },
        "outputId": "5e413053-5e90-4f0b-984c-c33ae20191ce"
      },
      "execution_count": null,
      "outputs": [
        {
          "output_type": "stream",
          "name": "stdout",
          "text": [
            "Digita um numero: 5.4\n",
            "O numero é decimal\n"
          ]
        }
      ]
    },
    {
      "cell_type": "markdown",
      "source": [
        "### Momento dos projetos"
      ],
      "metadata": {
        "id": "bKdXSK1SH_pF"
      }
    },
    {
      "cell_type": "markdown",
      "source": [
        "#### Questão 10\n",
        "Um programa deve ser escrito para ler dois números e, em seguida, perguntar à pessoa usuária qual operação ele deseja realizar. O resultado da operação deve incluir informações sobre o número - se é par ou ímpar, positivo ou negativo e inteiro ou decimal."
      ],
      "metadata": {
        "id": "WBlEyyzsHV86"
      }
    },
    {
      "cell_type": "code",
      "source": [
        "#Entrada dos dados\n",
        "num1 = float(input(\"Digite o primeiro numero: \"))\n",
        "num2 = float(input(\"Digite o segundo numero: \"))\n",
        "operador = input(\"Digite o tipo de operação. +,-,*,/: \")\n",
        "resultado = 0.0\n",
        "#fazendo o calculo\n",
        "if operador == \"+\":\n",
        "  resultado = num1 + num2\n",
        "elif operador == \"-\":\n",
        "  resultado = num1 - num2\n",
        "elif operador == \"*\":\n",
        "  resultado = num1 * num2\n",
        "elif operador == \"/\":\n",
        "  resultado = num1 / num2\n",
        "\n",
        "#Verificando se é par ou impar\n",
        "par = \"\"\n",
        "if (resultado / 2) == 0:\n",
        "  par = \"par\"\n",
        "else:\n",
        "  par = \"ímpar\"\n",
        "\n",
        "#verificando se é positivo ou negativo\n",
        "sinal = \"\"\n",
        "if resultado >= 0 :\n",
        "  sinal = \"positivo\"\n",
        "else:\n",
        "  sinal = \"negativo\"\n",
        "\n",
        "#verificando se é inteiro ou decimal\n",
        "decInt = \"\"\n",
        "numInt = int(resultado)\n",
        "\n",
        "if (resultado - numInt) == 0:\n",
        "  decInt = \"inteiro\"\n",
        "else:\n",
        "  decInt = \"decimal\"\n",
        "\n",
        "print(f\"O resultado da operação {num1} {operador} {num2} é igual a {resultado}. O numero é {par}, {sinal}, {decInt}\")"
      ],
      "metadata": {
        "id": "3jmahZ0f-2gq",
        "colab": {
          "base_uri": "https://localhost:8080/"
        },
        "outputId": "62bae1bd-c36e-4a48-d510-ca4ca12d86ff"
      },
      "execution_count": null,
      "outputs": [
        {
          "output_type": "stream",
          "name": "stdout",
          "text": [
            "Digite o primeiro numero: 6\n",
            "Digite o segundo numero: 9\n",
            "Digite o tipo de operação. +,-,*,/: *\n",
            "O resultado da operação 6.0 * 9.0 é igual a 54.0. O numero é ímpar, positivo, inteiro\n"
          ]
        }
      ]
    },
    {
      "cell_type": "markdown",
      "source": [
        "#### Questão 11\n",
        "Escreva um programa que peça à pessoa usuária três números que representam os lados de um triângulo. O programa deve informar se os valores podem ser utilizados para formar um triângulo e, caso afirmativo, se ele é equilátero, isósceles ou escaleno. Tenha em mente algumas dicas:\n",
        "- Três lados formam um triângulo quando a soma de quaisquer dois lados for maior que o terceiro;\n",
        "- Triângulo Equilátero: três lados iguais;\n",
        "- Triângulo Isósceles: quaisquer dois lados iguais;\n",
        "- Triângulo Escaleno: três lados diferentes;\n"
      ],
      "metadata": {
        "id": "VdnlULxHHW19"
      }
    },
    {
      "cell_type": "code",
      "source": [
        "#entrada dos dados\n",
        "lado1 = float(input(\"Digite a medida do primeiro lado: \"))\n",
        "lado2 = float(input(\"Digite a medida do segundo lado: \"))\n",
        "lado3 = float(input(\"Digite a medida do terceito lado: \"))\n",
        "\n",
        "#verificando se é um triangulo\n",
        "if (lado1 + lado2) > lado3 and (lado2 + lado3) > lado1 and (lado3 + lado1) > lado2:\n",
        "  print(\"É um triângulo\")\n",
        "\n",
        "  #categorizando o triângulo\n",
        "  if lado1 == lado2 == lado3:\n",
        "    print(\"Triângulo Equilátero\")\n",
        "  elif lado1 == lado2 or lado2 == lado3 or lado3 == lado1:\n",
        "    print(\"Triângulo Isósceles\")\n",
        "  elif lado1 != lado2 or lado2 != lado3 or lado3 != lado1:\n",
        "    print(\"Triângulo Escaleno\")\n",
        "else:\n",
        "  print(\"Medidadas não formam um triângulo\")"
      ],
      "metadata": {
        "id": "0z73sqUO-2Pw",
        "colab": {
          "base_uri": "https://localhost:8080/"
        },
        "outputId": "904e3f26-bced-4b0a-a073-750f36622c23"
      },
      "execution_count": null,
      "outputs": [
        {
          "output_type": "stream",
          "name": "stdout",
          "text": [
            "Digite a medida do primeiro lado: 5\n",
            "Digite a medida do segundo lado: 1\n",
            "Digite a medida do terceito lado: 1\n",
            "Medidadas não formam um triângulo\n"
          ]
        }
      ]
    },
    {
      "cell_type": "markdown",
      "source": [
        "#### Questão 12\n",
        "Um estabelecimento está vendendo combustíveis com descontos variados. Para o etanol, se a quantidade comprada for até 15 litros, o desconto será de 2% por litro. Caso contrário, será de 4% por litro. Para o diesel, se a quantidade comprada for até 15 litros, o desconto será de 3% por litro. Caso contrário, será de 5% por litro. O preço do litro de diesel é R\\$ 2,00 e o preço do litro de etanol é R\\$ 1,70. Escreva um programa que leia a quantidade de litros vendidos e o tipo de combustível (E para etanol e D para diesel) e calcule o valor a ser pago pelo cliente. Tenha em mente algumas dicas:\n",
        "\n",
        "- O do valor do desconto será a multiplicação entre preço do litro, quantidade de litros e o valor do desconto.\n",
        "- O valor a ser pago por um cliente será o resultado da multiplicação do preço do litro pela quantidade de litros menos o valor de desconto resultante do cálculo.\n"
      ],
      "metadata": {
        "id": "_PpEpOugHXwZ"
      }
    },
    {
      "cell_type": "code",
      "source": [
        "# Entrada de dados\n",
        "quantidade_litros = float(input(\"Digite a quantidade de litros vendidos: \"))\n",
        "tipo_combustivel = input(\"Digite o tipo de combustível (E para etanol e D para diesel): \").upper()\n",
        "\n",
        "# Preços dos combustíveis\n",
        "preco_etanol = 1.70\n",
        "preco_diesel = 2.00\n",
        "\n",
        "# Cálculo do desconto e valor a pagar\n",
        "if tipo_combustivel == \"E\":\n",
        "  if quantidade_litros <= 15:\n",
        "    desconto = preco_etanol * quantidade_litros * 0.02\n",
        "  else:\n",
        "    desconto = preco_etanol * quantidade_litros * 0.04\n",
        "  valor_a_pagar = (preco_etanol * quantidade_litros) - desconto\n",
        "elif tipo_combustivel == \"D\":\n",
        "  if quantidade_litros <= 15:\n",
        "    desconto = preco_diesel * quantidade_litros * 0.03\n",
        "  else:\n",
        "    desconto = preco_diesel * quantidade_litros * 0.05\n",
        "  valor_a_pagar = (preco_diesel * quantidade_litros) - desconto\n",
        "else:\n",
        "  print(\"Tipo de combustível inválido.\")\n",
        "  valor_a_pagar = 0  # Define um valor padrão em caso de erro\n",
        "\n",
        "# Saída do resultado\n",
        "print(f\"Valor a ser pago: R$ {valor_a_pagar:.2f}\")"
      ],
      "metadata": {
        "id": "9izoF-0O-1yD",
        "colab": {
          "base_uri": "https://localhost:8080/"
        },
        "outputId": "fc538065-7cee-4763-db15-63cf663e5ffd"
      },
      "execution_count": null,
      "outputs": [
        {
          "output_type": "stream",
          "name": "stdout",
          "text": [
            "Digite a quantidade de litros vendidos: 4\n",
            "Digite o tipo de combustível (E para etanol e D para diesel): d\n",
            "Valor a ser pago: R$ 7.76\n"
          ]
        }
      ]
    },
    {
      "cell_type": "markdown",
      "source": [
        "#### Questão 13\n",
        "Em uma empresa de venda de imóveis você precisa criar um código que analise os dados de vendas anuais para ajudar a diretoria na tomada de decisão. O código precisa coletar os dados de quantidade de venda durante os anos de 2022 e 2023 e fazer um cálculo de variação percentual. A partir do valor da variação, deve ser enviada às seguintes sugestões:\n",
        "- Para variação acima de 20%: bonificação para o time de vendas.\n",
        "- Para variação entre 2% e 20%: pequena bonificação para time de vendas.\n",
        "- Para variação entre 2% e -10%: planejamento de políticas de incentivo às vendas.\n",
        "- Para bonificações abaixo de -10%: corte de gastos.\n"
      ],
      "metadata": {
        "id": "s_XS_D1WHY2R"
      }
    },
    {
      "cell_type": "code",
      "source": [
        "#entrada de dados\n",
        "ano2022 = float(input(\"Digite o total de vendas de 2022: \"))\n",
        "ano2023 = float(input(\"Digite o total de vendas de 2023: \"))\n",
        "\n",
        "#calculando a variação\n",
        "variação = ((ano2023 - ano2022) / ano2022) * 100\n",
        "print(f\"A variação é de {variação}\")\n",
        "#calculando bonificação\n",
        "if variação > 20:\n",
        "  print(\"Bonificação para o time de vendas\")\n",
        "elif variação >= 2 and variação <= 20:\n",
        "  print(\"pequena bonificação para time de vendas\")\n",
        "elif variação >= -10 and variação < 2:\n",
        "  print(\"planejamento de políticas de incentivo às vendas\")\n",
        "elif variação < -10:\n",
        "  print(\"corte de gastos\")"
      ],
      "metadata": {
        "id": "avQrYlUg-w8f",
        "colab": {
          "base_uri": "https://localhost:8080/"
        },
        "outputId": "9eba7060-c536-45cf-f888-bbb3ef7e0a99"
      },
      "execution_count": null,
      "outputs": [
        {
          "output_type": "stream",
          "name": "stdout",
          "text": [
            "Digite o total de vendas de 2022: 5000000\n",
            "Digite o total de vendas de 2023: 6000000\n",
            "A variação é de 20.0\n",
            "pequena bonificação para time de vendas\n"
          ]
        }
      ]
    },
    {
      "cell_type": "markdown",
      "source": [
        "## Aula 4 - Estruturas de repetição"
      ],
      "metadata": {
        "id": "AuaWh4-d2Itt"
      }
    },
    {
      "cell_type": "markdown",
      "source": [
        "### Aquecendo na programação"
      ],
      "metadata": {
        "id": "6MSqU0sIJRdD"
      }
    },
    {
      "cell_type": "markdown",
      "source": [
        "#### Questão 1\n",
        "Escreva um programa que peça dois números inteiros e imprima todos os números inteiros entre eles."
      ],
      "metadata": {
        "id": "9eGGyCnAJRdQ"
      }
    },
    {
      "cell_type": "code",
      "source": [
        "numInicio = int(input(\"Digite o primeiro numero: \"))\n",
        "numFim = int(input(\"Digite o segundo numero: \"))\n",
        "contagem = numInicio + 1\n",
        "\n",
        "while contagem < numFim:\n",
        "  print(contagem)\n",
        "  contagem += 1"
      ],
      "metadata": {
        "id": "ID1oc1hxJRdQ",
        "colab": {
          "base_uri": "https://localhost:8080/"
        },
        "outputId": "5384d748-123d-4642-b435-404bdcf0c137"
      },
      "execution_count": null,
      "outputs": [
        {
          "output_type": "stream",
          "name": "stdout",
          "text": [
            "Digite o primeiro numero: 5\n",
            "Digite o segundo numero: 10\n",
            "6\n",
            "7\n",
            "8\n",
            "9\n"
          ]
        }
      ]
    },
    {
      "cell_type": "markdown",
      "source": [
        "#### Questão 2\n",
        "Escreva um programa para calcular quantos dias levará para a colônia de uma bactéria A ultrapassar ou igualar a colônia de uma bactéria B, com base nas taxas de crescimento de 3% e 1,5% respectivamente. Considere que a colônia A inicia com 4 elementos e a colônia B com 10 elementos."
      ],
      "metadata": {
        "id": "mGonEHYCJRdR"
      }
    },
    {
      "cell_type": "code",
      "source": [
        "bacA = 4\n",
        "bacB = 10\n",
        "dias = 0\n",
        "\n",
        "while bacA <= bacB:\n",
        "  bacA += (bacA * 0.03)\n",
        "  bacB += (bacB * 0.01)\n",
        "  dias += 1\n",
        "\n",
        "print(f\"Levará {dias} dias para a colônia de A ultrapassar ou igualar a colônia de B\")"
      ],
      "metadata": {
        "id": "wM6FJuoqJRdR",
        "colab": {
          "base_uri": "https://localhost:8080/"
        },
        "outputId": "102d5231-2dbe-43b1-f68c-06236ace8237"
      },
      "execution_count": null,
      "outputs": [
        {
          "output_type": "stream",
          "name": "stdout",
          "text": [
            "Levará 47 dias para a colônia de A ultrapassar ou igualar a colônia de B\n"
          ]
        }
      ]
    },
    {
      "cell_type": "markdown",
      "source": [
        "#### Questão 3\n",
        "Para tratar uma quantidade de 15 dados de avaliações de pessoas usuárias de um serviço da empresa, precisamos verificar se as notas são válidas. Então, escreva um programa que vai receber a nota de 0 a 5 de todos os dados e verificar se é um valor válido. Caso seja inserido uma nota acima de 5 ou abaixo de 0, repita até que a pessoa usuária insira um valor válido."
      ],
      "metadata": {
        "id": "UiOZRlqoJRdR"
      }
    },
    {
      "cell_type": "code",
      "source": [
        "cont = 0\n",
        "while cont < 15:\n",
        "  nota = int(input(\"Digite uma nota de 0 a 5: \"))\n",
        "  while nota < 0 or nota > 5:\n",
        "    nota = int(input(\"NOTA  INVÁLIDA. Digite uma nota de 0 a 5: \"))\n",
        "  cont += 1"
      ],
      "metadata": {
        "id": "3TUAhCxcJRdR",
        "colab": {
          "base_uri": "https://localhost:8080/",
          "height": 540
        },
        "outputId": "159dd9e9-bef2-48e5-f027-7a0b938bd692"
      },
      "execution_count": null,
      "outputs": [
        {
          "name": "stdout",
          "output_type": "stream",
          "text": [
            "Digite uma nota de 0 a 5: 5\n",
            "Digite uma nota de 0 a 5: 7\n",
            "NOTA  INVÁLIDA. Digite uma nota de 0 a 5: 5\n",
            "Digite uma nota de 0 a 5: 6\n",
            "NOTA  INVÁLIDA. Digite uma nota de 0 a 5: 0\n",
            "Digite uma nota de 0 a 5: -1\n",
            "NOTA  INVÁLIDA. Digite uma nota de 0 a 5: 5\n",
            "Digite uma nota de 0 a 5: 6\n",
            "NOTA  INVÁLIDA. Digite uma nota de 0 a 5: 2\n",
            "Digite uma nota de 0 a 5: 5\n",
            "Digite uma nota de 0 a 5: 5\n",
            "Digite uma nota de 0 a 5: 6\n",
            "NOTA  INVÁLIDA. Digite uma nota de 0 a 5: 3\n",
            "Digite uma nota de 0 a 5: 1\n",
            "Digite uma nota de 0 a 5: 5\n",
            "Digite uma nota de 0 a 5: 3\n",
            "Digite uma nota de 0 a 5: 2\n",
            "Digite uma nota de 0 a 5: 4\n",
            "Digite uma nota de 0 a 5: 8\n",
            "NOTA  INVÁLIDA. Digite uma nota de 0 a 5: \n"
          ]
        },
        {
          "output_type": "error",
          "ename": "ValueError",
          "evalue": "invalid literal for int() with base 10: ''",
          "traceback": [
            "\u001b[0;31m---------------------------------------------------------------------------\u001b[0m",
            "\u001b[0;31mValueError\u001b[0m                                Traceback (most recent call last)",
            "\u001b[0;32m<ipython-input-6-4541727dc5fc>\u001b[0m in \u001b[0;36m<cell line: 2>\u001b[0;34m()\u001b[0m\n\u001b[1;32m      3\u001b[0m   \u001b[0mnota\u001b[0m \u001b[0;34m=\u001b[0m \u001b[0mint\u001b[0m\u001b[0;34m(\u001b[0m\u001b[0minput\u001b[0m\u001b[0;34m(\u001b[0m\u001b[0;34m\"Digite uma nota de 0 a 5: \"\u001b[0m\u001b[0;34m)\u001b[0m\u001b[0;34m)\u001b[0m\u001b[0;34m\u001b[0m\u001b[0;34m\u001b[0m\u001b[0m\n\u001b[1;32m      4\u001b[0m   \u001b[0;32mwhile\u001b[0m \u001b[0mnota\u001b[0m \u001b[0;34m<\u001b[0m \u001b[0;36m0\u001b[0m \u001b[0;32mor\u001b[0m \u001b[0mnota\u001b[0m \u001b[0;34m>\u001b[0m \u001b[0;36m5\u001b[0m\u001b[0;34m:\u001b[0m\u001b[0;34m\u001b[0m\u001b[0;34m\u001b[0m\u001b[0m\n\u001b[0;32m----> 5\u001b[0;31m     \u001b[0mnota\u001b[0m \u001b[0;34m=\u001b[0m \u001b[0mint\u001b[0m\u001b[0;34m(\u001b[0m\u001b[0minput\u001b[0m\u001b[0;34m(\u001b[0m\u001b[0;34m\"NOTA  INVÁLIDA. Digite uma nota de 0 a 5: \"\u001b[0m\u001b[0;34m)\u001b[0m\u001b[0;34m)\u001b[0m\u001b[0;34m\u001b[0m\u001b[0;34m\u001b[0m\u001b[0m\n\u001b[0m\u001b[1;32m      6\u001b[0m   \u001b[0mcont\u001b[0m \u001b[0;34m+=\u001b[0m \u001b[0;36m1\u001b[0m\u001b[0;34m\u001b[0m\u001b[0;34m\u001b[0m\u001b[0m\n",
            "\u001b[0;31mValueError\u001b[0m: invalid literal for int() with base 10: ''"
          ]
        }
      ]
    },
    {
      "cell_type": "markdown",
      "source": [
        "#### Questão 4\n",
        "Desenvolva um programa que leia um conjunto indeterminado de temperaturas em Celsius e faça uma análise. Portanto, escreva um programa que leia temperaturas e informe a média delas. A leitura deve ser encerrada ao ser enviado o valor -273°C."
      ],
      "metadata": {
        "id": "ABv3KObGJRdR"
      }
    },
    {
      "cell_type": "code",
      "source": [
        "cont = 0\n",
        "temperatura = 0\n",
        "somaTemp = 0\n",
        "while temperatura != -273:\n",
        "  temperatura = int(input(\"Digite uma temperatura em Celsius: \"))\n",
        "  somaTemp = somaTemp + temperatura\n",
        "  cont += 1\n",
        "  media = somaTemp / cont\n",
        "  print(f\"A média das temperaturas é {media}\")"
      ],
      "metadata": {
        "id": "85tBBj5KJRdS",
        "colab": {
          "base_uri": "https://localhost:8080/"
        },
        "outputId": "c391a517-275a-40fd-9f43-465975a6e081"
      },
      "execution_count": null,
      "outputs": [
        {
          "output_type": "stream",
          "name": "stdout",
          "text": [
            "Digite uma temperatura em Celsius: 5\n",
            "A média das temperaturas é 5.0\n",
            "Digite uma temperatura em Celsius: 10\n",
            "A média das temperaturas é 7.5\n",
            "Digite uma temperatura em Celsius: 78\n",
            "A média das temperaturas é 31.0\n",
            "Digite uma temperatura em Celsius: -273\n",
            "A média das temperaturas é -45.0\n"
          ]
        }
      ]
    },
    {
      "cell_type": "markdown",
      "source": [
        "#### Questão 5\n",
        "Escreva um programa que calcule o fatorial de um número inteiro fornecido pela pessoa usuária. O fatorial de um número inteiro é a multiplicação desse número por todos os seus antecessores até o número 1. Por exemplo, o fatorial de 5 é 5 x 4 x 3 x 2 x 1 = 120."
      ],
      "metadata": {
        "id": "IjkbAfGcJRdS"
      }
    },
    {
      "cell_type": "code",
      "source": [
        "num = int(input(\"Digite um numero: \"))\n",
        "mult = num\n",
        "while num != 1:\n",
        "  mult = mult * (num - 1)\n",
        "  num -= 1\n",
        "print(mult)"
      ],
      "metadata": {
        "id": "7RTH8o0HJRdS",
        "colab": {
          "base_uri": "https://localhost:8080/"
        },
        "outputId": "24f6f5aa-8fb0-445d-b289-b4601d98c35c"
      },
      "execution_count": null,
      "outputs": [
        {
          "output_type": "stream",
          "name": "stdout",
          "text": [
            "Digite um numero: 5\n",
            "120\n"
          ]
        }
      ]
    },
    {
      "cell_type": "markdown",
      "source": [
        "### Momento dos projetos"
      ],
      "metadata": {
        "id": "oGNKuQjsJRdT"
      }
    },
    {
      "cell_type": "markdown",
      "source": [
        "#### Questão 6\n",
        "Escreva um programa que gere a tabuada de um número inteiro de 1 a 10, de acordo com a escolha da pessoa usuária. Como exemplo, para o número 2, a tabuada deve ser mostrada no seguinte formato:\n",
        "```\n",
        "Tabuada do 2:\n",
        "2 x 1 = 2\n",
        "2 x 2 = 4\n",
        "[...]\n",
        "2 x 10 = 20\n",
        "```"
      ],
      "metadata": {
        "id": "ODxaTUYmJRdS"
      }
    },
    {
      "cell_type": "code",
      "source": [
        "num = int(input(\"Digite um numero: \"))\n",
        "cont = 1\n",
        "print(f\"Tabuada do {num}:\")\n",
        "while cont <= 10:\n",
        "  print(f\"{num} x {cont} = {num * cont}\")\n",
        "  cont += 1"
      ],
      "metadata": {
        "id": "lkTlbxPIJRdS",
        "colab": {
          "base_uri": "https://localhost:8080/"
        },
        "outputId": "deb325c4-56f2-4b99-a0ca-e29eaf29a9f0"
      },
      "execution_count": null,
      "outputs": [
        {
          "output_type": "stream",
          "name": "stdout",
          "text": [
            "Digite um numero: 2\n",
            "Tabuada do 2:\n",
            "2 x 1 = 2\n",
            "2 x 2 = 4\n",
            "2 x 3 = 6\n",
            "2 x 4 = 8\n",
            "2 x 5 = 10\n",
            "2 x 6 = 12\n",
            "2 x 7 = 14\n",
            "2 x 8 = 16\n",
            "2 x 9 = 18\n",
            "2 x 10 = 20\n"
          ]
        }
      ]
    },
    {
      "cell_type": "markdown",
      "source": [
        "#### Questão 7\n",
        "Os números primos possuem várias aplicações dentro da Ciência de Dados, por exemplo, na criptografia e segurança. Um número primo é aquele que é divisível apenas por um e por ele mesmo. Faça um programa que peça um número inteiro e determine se ele é ou não um número primo."
      ],
      "metadata": {
        "id": "LeIbnt8VJRdS"
      }
    },
    {
      "cell_type": "code",
      "source": [
        "num = int(input(\"Digite um numero: \"))\n",
        "cont = 1\n",
        "div = 0\n",
        "while cont <= num:\n",
        "  if num % cont == 0:\n",
        "    div += 1\n",
        "  cont += 1\n",
        "if div == 2:\n",
        "  print(\"O numero é primo\")\n",
        "else:\n",
        "  print(\"O numero não é primo\")"
      ],
      "metadata": {
        "id": "2rcNU7twJRdS",
        "colab": {
          "base_uri": "https://localhost:8080/"
        },
        "outputId": "57ab2b71-2373-4d0f-a4be-b58f16b51562"
      },
      "execution_count": null,
      "outputs": [
        {
          "output_type": "stream",
          "name": "stdout",
          "text": [
            "Digite um numero: 8\n",
            "O numero não é primo\n"
          ]
        }
      ]
    },
    {
      "cell_type": "markdown",
      "source": [
        "#### Questão 8\n",
        "Vamos entender a distribuição de idades de pensionistas de uma empresa de previdência. Escreva um programa que leia as idades de uma quantidade não informada de clientes e mostre a distribuição em intervalos de [0-25], [26-50], [51-75] e [76-100]. Encerre a entrada de dados com um número negativo."
      ],
      "metadata": {
        "id": "QTwb6QaCJRdT"
      }
    },
    {
      "cell_type": "code",
      "source": [
        "entradaIdade = 0\n",
        "while entradaIdade >= 0:\n",
        "  entradaIdade = int(input(\"Digite uma idade: \"))\n",
        "  if entradaIdade >= 0 and entradaIdade <= 25:\n",
        "    print(\"Idade entre 0 e 25\")\n",
        "  elif entradaIdade >= 26 and entradaIdade <= 50:\n",
        "    print(\"Idade entre 26 e 50\")\n",
        "  elif entradaIdade >= 51 and entradaIdade <= 75:\n",
        "    print(\"Idade entre 51 e 75\")\n",
        "  elif entradaIdade >= 76 and entradaIdade <= 100:\n",
        "    print(\"Idade entre 76 e 100\")\n"
      ],
      "metadata": {
        "id": "4IAhaDmYJRdT",
        "colab": {
          "base_uri": "https://localhost:8080/"
        },
        "outputId": "2451ca16-414b-48e3-e9c3-01daa7bbbd37"
      },
      "execution_count": null,
      "outputs": [
        {
          "name": "stdout",
          "output_type": "stream",
          "text": [
            "Digite uma idade: 10\n",
            "Idade entre 0 e 25\n",
            "Digite uma idade: 49\n",
            "Idade entre 26 e 50\n",
            "Digite uma idade: 56\n",
            "Idade entre 51 e 75\n",
            "Digite uma idade: 80\n",
            "Idade entre 76 e 100\n",
            "Digite uma idade: -1\n"
          ]
        }
      ]
    },
    {
      "cell_type": "markdown",
      "source": [
        "#### Questão 9\n",
        "Em uma eleição para gerência em uma empresa com 20 funcionários, existem quatro candidatos. Escreva um programa que calcule o vencedor da eleição. A votação ocorreu da seguinte maneira:\n",
        "- Cada funcionário votou em um dos quatro candidatos (representados pelos números 1, 2, 3 e 4).\n",
        "- Também foram contabilizados os votos nulos (representado pelo número 5) e os votos em branco (representado pelo número 6).\n",
        "\n",
        "Ao final da votação, o programa deve exibir o total de votos para cada candidato, o número de votos nulos e o número de votos em branco. Além disso, deve calcular e exibir a porcentagem de votos nulos em relação ao total de votos e a porcentagem de votos em branco em relação ao total de votos."
      ],
      "metadata": {
        "id": "soJCQVwRJRdT"
      }
    },
    {
      "cell_type": "code",
      "source": [
        "cont1 = 0\n",
        "cont2 = 0\n",
        "cont3 = 0\n",
        "cont4 = 0\n",
        "cont5 = 0\n",
        "cont6 = 0\n",
        "\n",
        "for i in range(1, 21):\n",
        "  voto = int(input(\"Digite o seu voto: \"))\n",
        "  if voto == 1:\n",
        "    cont1 += 1\n",
        "  elif voto == 2:\n",
        "    cont2 += 1\n",
        "  elif voto == 3:\n",
        "    cont3 += 1\n",
        "  elif voto == 4:\n",
        "    cont4 += 1\n",
        "  elif voto == 5:\n",
        "    cont5 += 1\n",
        "  elif voto == 6:\n",
        "    cont6 += 1\n",
        "\n",
        "print(f\"Candidato 1: {cont1}\")\n",
        "print(f\"Candidato 2: {cont2}\")\n",
        "print(f\"Candidato 3: {cont3}\")\n",
        "print(f\"Candidato 4: {cont4}\")\n",
        "print(f\"Votos nulos: {cont5}\")\n",
        "print(f\"Votos em branco: {cont6}\")"
      ],
      "metadata": {
        "id": "041EFrgG-4gR",
        "colab": {
          "base_uri": "https://localhost:8080/"
        },
        "outputId": "4dedd646-c7fe-414b-d929-4d8fc55b5c84"
      },
      "execution_count": null,
      "outputs": [
        {
          "output_type": "stream",
          "name": "stdout",
          "text": [
            "Digite o seu voto: 1\n",
            "Digite o seu voto: 2\n",
            "Digite o seu voto: 4\n",
            "Digite o seu voto: 1\n",
            "Digite o seu voto: 5\n",
            "Digite o seu voto: 6\n",
            "Digite o seu voto: 1\n",
            "Digite o seu voto: 3\n",
            "Digite o seu voto: 2\n",
            "Digite o seu voto: 4\n",
            "Digite o seu voto: 3\n",
            "Digite o seu voto: 1\n",
            "Digite o seu voto: 5\n",
            "Digite o seu voto: 35\n",
            "Digite o seu voto: 6\n",
            "Digite o seu voto: 45\n",
            "Digite o seu voto: 5\n",
            "Digite o seu voto: 22\n",
            "Digite o seu voto: 23\n",
            "Digite o seu voto: 12\n",
            "Candidato 1: 4\n",
            "Candidato 2: 2\n",
            "Candidato 3: 2\n",
            "Candidato 4: 2\n",
            "Votos nulos: 3\n",
            "Votos em branco: 2\n"
          ]
        }
      ]
    },
    {
      "cell_type": "markdown",
      "source": [
        "## Aula 5 - Estruturas de dados"
      ],
      "metadata": {
        "id": "eijHQiNU2IZ7"
      }
    },
    {
      "cell_type": "markdown",
      "source": [
        "### Aquecendo na programação"
      ],
      "metadata": {
        "id": "92F0bKtBMgd7"
      }
    },
    {
      "cell_type": "markdown",
      "source": [
        "#### Questão 1\n",
        "Faça um programa que tenha a seguinte lista contendo os valores de gastos de uma empresa de papel `[2172.54, 3701.35, 3518.09, 3456.61, 3249.38, 2840.82, 3891.45, 3075.26, 2317.64, 3219.08]`. Com esses valores, faça um programa que calcule a média de gastos. Dica, use as funções built-in [`sum()`](https://docs.python.org/3/library/functions.html#sum) e [`len()`](https://docs.python.org/3/library/functions.html#len)."
      ],
      "metadata": {
        "id": "IypX2ANuMgeC"
      }
    },
    {
      "cell_type": "code",
      "source": [
        "gastos = [2172.54, 3701.35, 3518.09, 3456.61, 3249.38, 2840.82, 3891.45, 3075.26, 2317.64, 3219.08]\n",
        "media = sum(gastos) / len(gastos)\n",
        "media"
      ],
      "metadata": {
        "id": "ge3LuFhLMgeD",
        "colab": {
          "base_uri": "https://localhost:8080/"
        },
        "outputId": "e55d46b5-185a-4aa7-b9d8-9ab294afe381"
      },
      "execution_count": null,
      "outputs": [
        {
          "output_type": "execute_result",
          "data": {
            "text/plain": [
              "3144.222"
            ]
          },
          "metadata": {},
          "execution_count": 1
        }
      ]
    },
    {
      "cell_type": "markdown",
      "source": [
        "#### Questão 2\n",
        " Com os mesmos dados da questão anterior, defina quantas compras foram acima de 3000 reais e calcule a porcentagem quanto ao total de compras."
      ],
      "metadata": {
        "id": "xrOeLhQkMgeD"
      }
    },
    {
      "cell_type": "code",
      "source": [
        "cont = 0\n",
        "for gasto in gastos:\n",
        "  if gasto > 3000:\n",
        "    cont += 1\n",
        "porc = (cont / len(gastos)) * 100\n",
        "print(f\"A porcentagem de compras acima de 3000 é de {porc}%\")"
      ],
      "metadata": {
        "id": "Ygu5TMZyMgeD",
        "colab": {
          "base_uri": "https://localhost:8080/"
        },
        "outputId": "5d653193-69fb-460f-963d-9cd8d11e1c23"
      },
      "execution_count": null,
      "outputs": [
        {
          "output_type": "stream",
          "name": "stdout",
          "text": [
            "A porcentagem de compras acima de 3000 é de 70.0%\n"
          ]
        }
      ]
    },
    {
      "cell_type": "markdown",
      "source": [
        "#### Questão 3\n",
        "Faça um código que colete em uma lista 5 números inteiros quaisquer e imprima a lista. Exemplo: `[1,4,7,2,4]`."
      ],
      "metadata": {
        "id": "JgCOrE_BMgeD"
      }
    },
    {
      "cell_type": "code",
      "source": [
        "lista = []\n",
        "for i in range(5):\n",
        "  lista.append(int(input(\"Digite um numero inteiro: \")))\n",
        "print(lista)"
      ],
      "metadata": {
        "id": "vtM9O1hLMgeD",
        "colab": {
          "base_uri": "https://localhost:8080/"
        },
        "outputId": "81bde1c9-dc59-4999-e10a-21942f4d1bc2"
      },
      "execution_count": null,
      "outputs": [
        {
          "output_type": "stream",
          "name": "stdout",
          "text": [
            "Digite um numero inteiro: 5\n",
            "Digite um numero inteiro: 3\n",
            "Digite um numero inteiro: 41\n",
            "Digite um numero inteiro: 5\n",
            "Digite um numero inteiro: 3\n",
            "[5, 3, 41, 5, 3]\n"
          ]
        }
      ]
    },
    {
      "cell_type": "markdown",
      "source": [
        "#### Questão 4\n",
        "Colete novamente 5 inteiros e imprima a lista em ordem inversa à enviada."
      ],
      "metadata": {
        "id": "p3bTp88HMgeD"
      }
    },
    {
      "cell_type": "code",
      "source": [
        "lista = []\n",
        "for i in range(5):\n",
        "  lista.append(int(input(\"Digite um numero inteiro: \")))\n",
        "lista.reverse()\n",
        "print(lista)"
      ],
      "metadata": {
        "id": "-CGwMIyHMgeD",
        "colab": {
          "base_uri": "https://localhost:8080/"
        },
        "outputId": "8b47fa21-8f82-420e-fe2e-f0c0ddd42d00"
      },
      "execution_count": null,
      "outputs": [
        {
          "output_type": "stream",
          "name": "stdout",
          "text": [
            "Digite um numero inteiro: 1\n",
            "Digite um numero inteiro: 2\n",
            "Digite um numero inteiro: 3\n",
            "Digite um numero inteiro: 4\n",
            "Digite um numero inteiro: 5\n",
            "[5, 4, 3, 2, 1]\n"
          ]
        }
      ]
    },
    {
      "cell_type": "markdown",
      "source": [
        "####Questão 5\n",
        "Faça um programa que, ao inserir um número qualquer, criará uma lista contendo todos os números primos entre 1 e o número digitado."
      ],
      "metadata": {
        "id": "eIXd_z1lMgeD"
      }
    },
    {
      "cell_type": "code",
      "source": [
        "num = int(input(\"Digite um numero: \"))\n",
        "lista = []\n",
        "for i in range(1, num + 1):\n",
        "  cont = 0\n",
        "  for j in range(1, i + 1):\n",
        "    if i % j == 0:\n",
        "      cont += 1\n",
        "  if cont == 2:\n",
        "    lista.append(i)\n",
        "print(lista)\n",
        "\n",
        "\n"
      ],
      "metadata": {
        "id": "rj_6GHstMgeE",
        "colab": {
          "base_uri": "https://localhost:8080/"
        },
        "outputId": "54ba31f1-5fbf-41eb-99e7-be3f6cd64033"
      },
      "execution_count": null,
      "outputs": [
        {
          "output_type": "stream",
          "name": "stdout",
          "text": [
            "Digite um numero: 7\n",
            "[2, 3, 5, 7]\n"
          ]
        }
      ]
    },
    {
      "cell_type": "markdown",
      "source": [
        "#### Questão 6\n",
        "Escreva um programa que peça uma data informando o dia, mês e ano e determine se ela é uma data válida para uma análise."
      ],
      "metadata": {
        "id": "zrbz3ENlMgeE"
      }
    },
    {
      "cell_type": "code",
      "source": [
        "#entrada dos dados\n",
        "dia = int(input(\"Digite o dia: \"))\n",
        "mes = int(input(\"Digite o mês: \"))\n",
        "ano = int(input(\"Digite o ano: \"))\n",
        "\n",
        "#dia, mês e ano não podem ser negativos\n",
        "if dia > 0 or mes > 0 or ano > 0:\n",
        "  #mês não pode ser maior que 12\n",
        "  if mes <= 12:\n",
        "    #Se o mês for 02, o dia não pode ser maior que 29\n",
        "    if mes==2 and dia <= 29:\n",
        "      #Se o mês for 01, 03, 05, 07, 08, 10, 12, o dia não pode ser maior que 31\n",
        "      if mes == 1 or mes == 3 or mes == 5 or mes == 7 or mes == 8 or mes == 10 or mes == 12 and dia <= 31:\n",
        "        #Se o mês for 04, 06, 09, 11, o dia não pode ser maior que 30\n",
        "        if mes == 4 or mes == 6 or mes == 9 or mes == 11 and dia <= 30:\n",
        "          #ano deve ter mais de 4 digitos\n",
        "          if len(ano) >= 4:\n",
        "            print(\"Data válida\")\n",
        "          else:\n",
        "            print(\"Data inválida! Ano deve ter mais de 4 digitos\")\n",
        "        else:\n",
        "          print(\"Data inválida! Mês não deve ter mais de 30 dias\")\n",
        "      else:\n",
        "        print(\"Data inválida! Mês não deve ter mais de 31 dias\")\n",
        "    else:\n",
        "      print(\"Data inválida! Mês 02 não deve ter mais de 29 dias\")\n",
        "  else:\n",
        "    print(\"Data inválida! Mês não deve ser maior que 12\")\n",
        "else:\n",
        "  print(\"Data inválida! Dia, Mês e Ano não podem ser negativos\")"
      ],
      "metadata": {
        "id": "0eYA8UjTMgeE",
        "colab": {
          "base_uri": "https://localhost:8080/"
        },
        "outputId": "dbf2010e-e8a0-4b1f-ed6c-0ff7fdbb638d"
      },
      "execution_count": null,
      "outputs": [
        {
          "output_type": "stream",
          "name": "stdout",
          "text": [
            "Digite o dia: -2\n",
            "Digite o mês: 12\n",
            "Digite o ano: 1999\n",
            "Data inválida! Mês 02 não deve ter mais de 29 dias\n"
          ]
        }
      ]
    },
    {
      "cell_type": "markdown",
      "source": [
        "### Momento dos projetos"
      ],
      "metadata": {
        "id": "ut_4VHdGMgeE"
      }
    },
    {
      "cell_type": "markdown",
      "source": [
        "#### Questão 7\n",
        "Para um estudo envolvendo o nível de multiplicação de bactérias em uma colônia, foi coletado o número de bactérias multiplicadas por dia, com base em um processo de duplicação diária e pode ser observado a seguir: `[1.2, 2.1, 3.3, 5.0, 7.8, 11.3, 16.6, 25.1, 37.8, 56.9]`. Tendo esses valores, faça um código que gere uma lista contendo o percentual de crescimento de bactérias por dia, comparando o número de bactérias em cada dia com o número de bactérias do dia anterior. Dica: para calcular o percentual de crescimento usamos a seguinte equação: `100 * (amostra_atual - amostra_passada) / (amostra_passada)`."
      ],
      "metadata": {
        "id": "G86Z0vD_MgeE"
      }
    },
    {
      "cell_type": "code",
      "source": [
        "amostras = [1.2, 2.1, 3.3, 5.0, 7.8, 11.3, 16.6, 25.1, 37.8, 56.9]\n",
        "lista = []\n",
        "cont = 0\n",
        "while cont < len(amostras):\n",
        "  if cont == 0:\n",
        "    lista.append(0)\n",
        "  else:\n",
        "    calculo = 100 * (amostras[cont] - amostras[cont - 1]) / amostras[cont - 1]\n",
        "    lista.append(calculo)\n",
        "  cont += 1\n",
        "lista"
      ],
      "metadata": {
        "id": "PXNO_CFkMgeE",
        "colab": {
          "base_uri": "https://localhost:8080/"
        },
        "outputId": "03fd161c-c9c6-4b1c-e316-aa9b3c73cb5d"
      },
      "execution_count": null,
      "outputs": [
        {
          "output_type": "execute_result",
          "data": {
            "text/plain": [
              "[0,\n",
              " 75.00000000000001,\n",
              " 57.142857142857125,\n",
              " 51.51515151515153,\n",
              " 56.0,\n",
              " 44.87179487179489,\n",
              " 46.90265486725664,\n",
              " 51.20481927710843,\n",
              " 50.59760956175297,\n",
              " 50.52910052910054]"
            ]
          },
          "metadata": {},
          "execution_count": 5
        }
      ]
    },
    {
      "cell_type": "markdown",
      "source": [
        "#### Questão 8\n",
        "Para uma seleção de produtos alimentícios, precisamos separar o conjunto de IDs dados por números inteiros, sabendo que os produtos com ID par são doces e os com ID ímpar são amargos. Monte um código que colete 10 IDs. Depois, calcule e mostre a quantidade de produtos doces e amargos."
      ],
      "metadata": {
        "id": "p4nxogpnMgeE"
      }
    },
    {
      "cell_type": "code",
      "source": [
        "lista = []\n",
        "impar = 0\n",
        "par = 0\n",
        "for cont in range(10):\n",
        "  num = int(input(f\"Digite o ID do produto. ID digitados: {cont} - \"))\n",
        "  if (num % 2) == 0:\n",
        "    par += 1\n",
        "  else:\n",
        "    impar += 1\n",
        "\n",
        "print(f\"Numero de doces são {par}, e numero de amargos são {impar}\")"
      ],
      "metadata": {
        "id": "WqjO2SZkMgeE",
        "colab": {
          "base_uri": "https://localhost:8080/"
        },
        "outputId": "4497e5c5-5be4-44f3-e206-b0eff28a0bc4"
      },
      "execution_count": null,
      "outputs": [
        {
          "output_type": "stream",
          "name": "stdout",
          "text": [
            "Digite o ID do produto. ID digitados: 0 - 3\n",
            "Digite o ID do produto. ID digitados: 1 - 5\n",
            "Digite o ID do produto. ID digitados: 2 - 2\n",
            "Digite o ID do produto. ID digitados: 3 - 3\n",
            "Digite o ID do produto. ID digitados: 4 - 9\n",
            "Digite o ID do produto. ID digitados: 5 - 4\n",
            "Digite o ID do produto. ID digitados: 6 - 5\n",
            "Digite o ID do produto. ID digitados: 7 - 6\n",
            "Digite o ID do produto. ID digitados: 8 - 1\n",
            "Digite o ID do produto. ID digitados: 9 - 23\n",
            "Numero de doces são 3, e numero de amargos são 7\n"
          ]
        }
      ]
    },
    {
      "cell_type": "markdown",
      "source": [
        "#### Questão 9\n",
        "Desenvolva um programa que informa a nota de um aluno de acordo com suas respostas. Ele deve pedir a resposta de um aluno para cada questão e é preciso verificar se a resposta foi igual ao gabarito. Cada questão vale um ponto e existem alternativas:  A, B, C ou D.\n",
        "```\n",
        "Gabarito da Prova:\n",
        "01 - D\n",
        "02 - A\n",
        "03 - C\n",
        "04 - B\n",
        "05 - A\n",
        "06 - D\n",
        "07 - C\n",
        "08 - C\n",
        "09 - A\n",
        "10 - B\n",
        "```"
      ],
      "metadata": {
        "id": "t5OrLxV6MgeE"
      }
    },
    {
      "cell_type": "code",
      "source": [
        "gabarito = {\"1\":\"D\", \"2\":\"A\", \"3\":\"C\", \"4\":\"B\", \"5\":\"A\", \"6\":\"D\", \"7\":\"C\"\n",
        ", \"8\":\"C\", \"9\":\"A\", \"10\":\"B\"}\n",
        "\n",
        "prova = {}\n",
        "acertos = 0\n",
        "for questao in range(10):\n",
        "  prova[str(questao + 1)] = input(f\"Digite a alternativa da questão {questao + 1}: \")\n",
        "\n",
        "cont = 0\n",
        "\n",
        "while cont < len(prova):\n",
        "  if prova[str(cont + 1)] == gabarito[str(cont + 1)]:\n",
        "    acertos += 1\n",
        "  cont += 1\n",
        "print(f\"O aluno fez {acertos} pontos\")"
      ],
      "metadata": {
        "id": "ytIQDJrQMgeE",
        "colab": {
          "base_uri": "https://localhost:8080/"
        },
        "outputId": "d1d2b4f6-c47e-4040-d4cd-b82284b8b52a"
      },
      "execution_count": null,
      "outputs": [
        {
          "output_type": "stream",
          "name": "stdout",
          "text": [
            "Digite a alternativa da questão 1: A\n",
            "Digite a alternativa da questão 2: B\n",
            "Digite a alternativa da questão 3: A\n",
            "Digite a alternativa da questão 4: V\n",
            "Digite a alternativa da questão 5: C\n",
            "Digite a alternativa da questão 6: D\n",
            "Digite a alternativa da questão 7: A\n",
            "Digite a alternativa da questão 8: B\n",
            "Digite a alternativa da questão 9: C\n",
            "Digite a alternativa da questão 10: A\n",
            "O aluno fez 1 pontos\n"
          ]
        }
      ]
    },
    {
      "cell_type": "markdown",
      "source": [
        "#### Questão 10\n",
        "Um instituto de meteorologia deseja fazer um estudo de temperatura média de cada mês do ano. Para isso, você precisa fazer um código que colete e armazene essas temperaturas médias em uma lista. Depois, calcule a média anual das temperaturas e mostre todas as temperaturas acima da média anual, e em que mês elas ocorreram, mostrando os meses por extenso: Janeiro, Fevereiro, etc."
      ],
      "metadata": {
        "id": "aSBMzh-AMgeF"
      }
    },
    {
      "cell_type": "code",
      "source": [
        "meses = ['Janeiro', 'Fevereiro', 'Março', 'Abril', 'Maio', 'Junho', 'Julho'\n",
        ", 'Agosto', 'Setembro', 'Outubro', 'Novembro', 'Dezembro']\n",
        "\n",
        "temperaturas = {}\n",
        "soma = 0\n",
        "\n",
        "for mes in meses:\n",
        "  temperaturas[mes] = float(input(f\"Digite a temperatura do mês de {mes}: \"))\n",
        "  soma += temperaturas[mes]\n",
        "\n",
        "media = soma / len(meses)\n",
        "print(f\"A temperatura média anual é de {media}°\")\n",
        "\n",
        "for mes in meses:\n",
        "  if temperaturas[mes] > media:\n",
        "    print(f\"O mês de {mes} tem a temperatura acima da média - {temperaturas[mes]}°\")"
      ],
      "metadata": {
        "id": "ftj04s2uMgeF",
        "colab": {
          "base_uri": "https://localhost:8080/"
        },
        "outputId": "09657f36-49c2-4171-9dc7-a87382b2ca4d"
      },
      "execution_count": null,
      "outputs": [
        {
          "output_type": "stream",
          "name": "stdout",
          "text": [
            "Digite a temperatura do mês de Janeiro: 10\n",
            "Digite a temperatura do mês de Fevereiro: 0\n",
            "Digite a temperatura do mês de Março: 32\n",
            "Digite a temperatura do mês de Abril: 20\n",
            "Digite a temperatura do mês de Maio: 15\n",
            "Digite a temperatura do mês de Junho: 28\n",
            "Digite a temperatura do mês de Julho: 17\n",
            "Digite a temperatura do mês de Agosto: 36\n",
            "Digite a temperatura do mês de Setembro: 32\n",
            "Digite a temperatura do mês de Outubro: 30\n",
            "Digite a temperatura do mês de Novembro: 19\n",
            "Digite a temperatura do mês de Dezembro: 20\n",
            "A temperatura média anual é de 21.583333333333332°\n",
            "O mês de Março tem a temperatura acima da média - 32.0°\n",
            "O mês de Junho tem a temperatura acima da média - 28.0°\n",
            "O mês de Agosto tem a temperatura acima da média - 36.0°\n",
            "O mês de Setembro tem a temperatura acima da média - 32.0°\n",
            "O mês de Outubro tem a temperatura acima da média - 30.0°\n"
          ]
        }
      ]
    },
    {
      "cell_type": "markdown",
      "source": [
        "#### Questão 11\n",
        "Uma empresa de e-commerce está interessada em analisar as vendas dos seus produtos. Os dados das vendas foram armazenados em um dicionário:\n",
        "```\n",
        "{'Produto A': 300, 'Produto B': 80, 'Produto C': 60,\n",
        " 'Produto D': 200, 'Produto E': 250, 'Produto F': 30}\n",
        "```\n",
        "Escreva um código que calcule o total de vendas e o produto mais vendido."
      ],
      "metadata": {
        "id": "0X8S6s4jMgeF"
      }
    },
    {
      "cell_type": "code",
      "source": [
        "vendas = {'Produto A': 300, 'Produto B': 80, 'Produto C': 60,\n",
        " 'Produto D': 200, 'Produto E': 250, 'Produto F': 30}\n",
        "\n",
        "print(f\"O total de vendas é de ${sum(vendas.values())}\")\n",
        "print(f\"A venda mais alta é de ${vendas[max(vendas, key=vendas.get)]}\")"
      ],
      "metadata": {
        "id": "Xa3DJLtFMgeF",
        "colab": {
          "base_uri": "https://localhost:8080/"
        },
        "outputId": "facfe993-8015-4e12-8408-52ef00a532c8"
      },
      "execution_count": null,
      "outputs": [
        {
          "output_type": "stream",
          "name": "stdout",
          "text": [
            "O total de vendas é de $920\n",
            "A venda mais alta é de $300\n"
          ]
        }
      ]
    },
    {
      "cell_type": "markdown",
      "source": [
        "#### Questão 12\n",
        "Uma pesquisa de mercado foi feita para decidir qual design de uma marca infantil mais agrada crianças. A pesquisa foi feita e o votos computados podem ser observados abaixo:\n",
        "```\n",
        "'''\n",
        "Tabela de votos da marca\n",
        "Design 1 - 1334 votos\n",
        "Design 2 - 982 votos\n",
        "Design 3 - 1751 votos\n",
        "Design 4 - 210 votos\n",
        "Design 5 - 1811 votos\n",
        "'''\n",
        "```\n",
        "Adapte os dados fornecidos a você para uma estrutura de dicionário e a partir dele, informe o design vencedor e a porcentagem de votos recebidos.\n"
      ],
      "metadata": {
        "id": "nrEwf_1ZMgeF"
      }
    },
    {
      "cell_type": "code",
      "source": [
        "votos = {\"Design 1\":1334, \"Design 2\":982, \"Design 3\":1751, \"Design 4\":210,\n",
        "         \"Design 5\":1811}\n",
        "totalVotos = sum(votos.values())\n",
        "vencedor = max(votos, key=votos.get)\n",
        "perc = 100 * (votos[vencedor] / totalVotos)\n",
        "print(f\"O vencedor é o {vencedor}, com {perc}% dos votos\")"
      ],
      "metadata": {
        "id": "MRPcGR-_MgeF",
        "colab": {
          "base_uri": "https://localhost:8080/"
        },
        "outputId": "a3f4f178-d8fc-407e-e8a1-574906b10ead"
      },
      "execution_count": null,
      "outputs": [
        {
          "output_type": "stream",
          "name": "stdout",
          "text": [
            "O vencedor é o Design 5, com 29.747043363994745% dos votos\n"
          ]
        }
      ]
    },
    {
      "cell_type": "markdown",
      "source": [
        "#### Questão 13\n",
        "Os funcionários de um setor da empresa que você trabalha vão receber um abono correspondente a 10% do seu salário devido ao ótimo desempenho do time. O setor financeiro solicitou sua ajuda para a verificação das consequências financeiras que esse abono irá gerar nos recursos. Assim, foi encaminhada para você uma lista com os salários que receberão o abono: `[1172, 1644, 2617, 5130, 5532, 6341, 6650, 7238, 7685, 7782, 7903]`. O abono de cada funcionário não pode ser inferior a 200. Em código, transforme cada um dos salários em chaves de um dicionário e o abono de cada salário no elemento. Depois, informe o total de gastos com o abono, quantos funcionários receberam o abono mínimo e qual o maior valor de abono fornecido.\n"
      ],
      "metadata": {
        "id": "HRTFFzKIMgeF"
      }
    },
    {
      "cell_type": "code",
      "source": [
        "salarios = [1172, 1644, 2617, 5130, 5532, 6341, 6650, 7238, 7685, 7782, 7903]\n",
        "abonos = {}\n",
        "abonosMin = 0\n",
        "for salario in salarios:\n",
        "  if (salario * 0.1) < 200:\n",
        "    abonos[str(salario)] = 200\n",
        "    abonosMin += 1\n",
        "  else:\n",
        "    abonos[str(salario)] = salario * 0.1\n",
        "totalGastos = sum(salarios) + sum(abonos.values())\n",
        "maxAbono = abonos[max(abonos, key=abonos.get)]\n",
        "\n",
        "print(f\"O total de gasto é de R${totalGastos}.\")\n",
        "print(f\"O total de funcionários que receberam o abono minimo é {abonosMin}.\")\n",
        "print(f\"O maior abono recebido é de R${maxAbono}.\")"
      ],
      "metadata": {
        "id": "QsDSCua42bLB",
        "colab": {
          "base_uri": "https://localhost:8080/"
        },
        "outputId": "c85d2fd1-2ef6-4604-ca2b-a23a0d10e7c9"
      },
      "execution_count": null,
      "outputs": [
        {
          "output_type": "stream",
          "name": "stdout",
          "text": [
            "O total de gasto é de R$65781.8.\n",
            "O total de funcionários que receberam o abono minimo é 2.\n",
            "O maior abono recebido é de R$790.3000000000001.\n"
          ]
        }
      ]
    },
    {
      "cell_type": "markdown",
      "source": [
        "#### Questão 14\n",
        "Uma equipe de cientistas de dados está estudando a diversidade biológica em uma floresta. A equipe fez a coleta de informações sobre o número de espécies de plantas e animais em cada área da floresta e armazenaram essas informações em um dicionário. Nele, a chave descreve a área dos dados e os valores nas listas correspondem às espécies de plantas e animais nas áreas, respectivamente.\n",
        "```\n",
        "{'Área Norte': [2819, 7236],\n",
        " 'Área Leste': [1440, 9492],\n",
        " 'Área Sul': [5969, 7496],\n",
        " 'Área Oeste': [14446, 49688],\n",
        " 'Área Centro': [22558, 45148]}\n",
        "```\n",
        "Escreva um código para calcular a média de espécies por área e identificar a área com a maior diversidade biológica. Dica: use as funções built-in [`sum()`](https://docs.python.org/3/library/functions.html#sum) e [`len()`](https://docs.python.org/3/library/functions.html#len).\n"
      ],
      "metadata": {
        "id": "6dEXZEwjMlWy"
      }
    },
    {
      "cell_type": "code",
      "source": [
        "area_florestal = {'Área Norte': [2819, 7236],\n",
        " 'Área Leste': [1440, 9492],\n",
        " 'Área Sul': [5969, 7496],\n",
        " 'Área Oeste': [14446, 49688],\n",
        " 'Área Centro': [22558, 45148]}\n",
        "\n",
        "media_por_area = {}\n",
        "for area, especies in area_florestal.items():\n",
        "  total_especies = sum(especies)\n",
        "  media_por_area[area] = total_especies / len(especies)\n",
        "\n",
        "area_mais_diversas = max(media_por_area, key=media_por_area.get)\n",
        "\n",
        "print(f\"A área com a maior diversidade biológica é {area_mais_diversas} com uma média de {media_por_area[area_mais_diversas]} espécies por área.\")\n",
        "\n"
      ],
      "metadata": {
        "id": "eQnOUDfYMlWy",
        "colab": {
          "base_uri": "https://localhost:8080/"
        },
        "outputId": "a41684d6-b36f-4187-e191-498591b28b16"
      },
      "execution_count": null,
      "outputs": [
        {
          "output_type": "stream",
          "name": "stdout",
          "text": [
            "A área com a maior diversidade biológica é Área Centro com uma média de 33853.0 espécies por área.\n"
          ]
        }
      ]
    },
    {
      "cell_type": "markdown",
      "source": [
        "#### Questão 15\n",
        "O setor de RH da sua empresa te pediu uma ajuda para analisar as idades dos funcionários de 4 setores da empresa. Para isso, ele te forneceu os seguintes dados:\n",
        "```\n",
        "{'Setor A': [22, 26, 30, 30, 35, 38, 40, 56, 57, 65],\n",
        " 'Setor B': [22, 24, 26, 33, 41, 49, 50, 54, 60, 64],\n",
        " 'Setor C': [23, 26, 26, 29, 34, 35, 36, 41, 52, 56],\n",
        " 'Setor D': [19, 20, 25, 27, 34, 39, 42, 44, 50, 65]}\n",
        "```\n",
        "Sabendo que cada setor tem 10 funcionários, construa um código que calcule a média de idade de cada setor, a idade média geral entre todos os setores e quantas pessoas estão acima da idade média geral.\n"
      ],
      "metadata": {
        "id": "r0RW2Sy_MlWy"
      }
    },
    {
      "cell_type": "code",
      "source": [
        "funcionarios = {'Setor A': [22, 26, 30, 30, 35, 38, 40, 56, 57, 65],\n",
        " 'Setor B': [22, 24, 26, 33, 41, 49, 50, 54, 60, 64],\n",
        " 'Setor C': [23, 26, 26, 29, 34, 35, 36, 41, 52, 56],\n",
        " 'Setor D': [19, 20, 25, 27, 34, 39, 42, 44, 50, 65]}\n",
        "\n",
        "media_setor = {}\n",
        "soma_idades = 0\n",
        "for setor, idades in funcionarios.items():\n",
        "  media_setor[setor] = sum(idades) / len(idades)\n",
        "  soma_idades += sum(idades)\n",
        "\n",
        "media_geral = soma_idades / (len(funcionarios) * 10)\n",
        "\n",
        "cont_acima_media = 0\n",
        "for setor, idades in funcionarios.items():\n",
        "  for idade in idades:\n",
        "    if idade > media_geral:\n",
        "      cont_acima_media += 1\n",
        "\n",
        "print(f\"A média de idade de cada setor é: {media_setor}\")\n",
        "print(f\"A idade média geral entre os setores é: {media_geral}\")\n",
        "print(f\"O número de pessoas acima da idade média geral é: {cont_acima_media}\")\n"
      ],
      "metadata": {
        "id": "wCiwyKP3MmTz",
        "colab": {
          "base_uri": "https://localhost:8080/"
        },
        "outputId": "4621cacf-e948-4d72-9f4e-ddd5c77b6d32"
      },
      "execution_count": null,
      "outputs": [
        {
          "output_type": "stream",
          "name": "stdout",
          "text": [
            "A média de idade de cada setor é: {'Setor A': 39.9, 'Setor B': 42.3, 'Setor C': 35.8, 'Setor D': 36.5}\n",
            "A idade média geral entre os setores é: 38.625\n",
            "O número de pessoas acima da idade média geral é: 18\n"
          ]
        }
      ]
    },
    {
      "cell_type": "code",
      "source": [],
      "metadata": {
        "id": "kEuCLA_XjRgl"
      },
      "execution_count": null,
      "outputs": []
    }
  ]
}