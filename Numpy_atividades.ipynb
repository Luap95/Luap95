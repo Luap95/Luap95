{
  "cells": [
    {
      "cell_type": "markdown",
      "metadata": {
        "id": "view-in-github",
        "colab_type": "text"
      },
      "source": [
        "<a href=\"https://colab.research.google.com/github/Luap95/Luap95/blob/main/Numpy_atividades.ipynb\" target=\"_parent\"><img src=\"https://colab.research.google.com/assets/colab-badge.svg\" alt=\"Open In Colab\"/></a>"
      ]
    },
    {
      "cell_type": "code",
      "execution_count": null,
      "metadata": {
        "id": "NLqTlPhNN-oN"
      },
      "outputs": [],
      "source": [
        "import numpy as np"
      ]
    },
    {
      "cell_type": "code",
      "execution_count": null,
      "metadata": {
        "id": "OxW-I2J_ODDL"
      },
      "outputs": [],
      "source": [
        "url = 'https://raw.githubusercontent.com/allanspadini/numpy/dados/citrus.csv'"
      ]
    },
    {
      "cell_type": "code",
      "execution_count": null,
      "metadata": {
        "id": "5MOJs2cuOH1h"
      },
      "outputs": [],
      "source": [
        "dado = np.loadtxt(url, delimiter=',', skiprows=1, usecols=np.arange(1, 6, 1))"
      ]
    },
    {
      "cell_type": "code",
      "execution_count": null,
      "metadata": {
        "colab": {
          "base_uri": "https://localhost:8080/"
        },
        "id": "HYs6HyxsPWNy",
        "outputId": "c655e0ac-6194-4180-b736-441fbdeaf8b8"
      },
      "outputs": [
        {
          "output_type": "execute_result",
          "data": {
            "text/plain": [
              "2"
            ]
          },
          "metadata": {},
          "execution_count": 4
        }
      ],
      "source": [
        "dado.ndim"
      ]
    },
    {
      "cell_type": "code",
      "execution_count": null,
      "metadata": {
        "colab": {
          "base_uri": "https://localhost:8080/"
        },
        "id": "HJ8mQyehPiog",
        "outputId": "43194bb6-fcbd-4ca8-e181-1f13e28cc2e3"
      },
      "outputs": [
        {
          "output_type": "execute_result",
          "data": {
            "text/plain": [
              "50000"
            ]
          },
          "metadata": {},
          "execution_count": 5
        }
      ],
      "source": [
        "dado.size"
      ]
    },
    {
      "cell_type": "code",
      "execution_count": null,
      "metadata": {
        "colab": {
          "base_uri": "https://localhost:8080/"
        },
        "id": "IuXeCxs4Po94",
        "outputId": "791a0671-31fb-438a-9360-ca999a1ea126"
      },
      "outputs": [
        {
          "output_type": "execute_result",
          "data": {
            "text/plain": [
              "(10000, 5)"
            ]
          },
          "metadata": {},
          "execution_count": 6
        }
      ],
      "source": [
        "dado.shape"
      ]
    },
    {
      "cell_type": "code",
      "execution_count": null,
      "metadata": {
        "id": "lxKXO_g4PrnB"
      },
      "outputs": [],
      "source": [
        "dado_transposto = dado.T"
      ]
    },
    {
      "cell_type": "code",
      "execution_count": null,
      "metadata": {
        "colab": {
          "base_uri": "https://localhost:8080/"
        },
        "id": "iamcn7fMP1mY",
        "outputId": "fcac34a9-e343-4341-ea5f-e23c3289296a"
      },
      "outputs": [
        {
          "output_type": "execute_result",
          "data": {
            "text/plain": [
              "array([[  2.96,   3.91,   4.42, ...,  15.59,  15.92,  16.45],\n",
              "       [ 86.76,  88.05,  95.17, ..., 256.5 , 260.14, 261.51],\n",
              "       [172.  , 166.  , 156.  , ..., 168.  , 142.  , 152.  ],\n",
              "       [ 85.  ,  78.  ,  81.  , ...,  82.  ,  72.  ,  74.  ],\n",
              "       [  2.  ,   3.  ,   2.  , ...,  20.  ,  11.  ,   2.  ]])"
            ]
          },
          "metadata": {},
          "execution_count": 8
        }
      ],
      "source": [
        "dado_transposto"
      ]
    },
    {
      "cell_type": "code",
      "execution_count": null,
      "metadata": {
        "colab": {
          "base_uri": "https://localhost:8080/"
        },
        "id": "y3DXK14nZZQs",
        "outputId": "4a92253e-ea35-4d12-d409-4733e3335179"
      },
      "outputs": [
        {
          "output_type": "execute_result",
          "data": {
            "text/plain": [
              "array([[ 2.96,  3.91,  4.42, ..., 15.59, 15.92, 16.45]])"
            ]
          },
          "metadata": {},
          "execution_count": 9
        }
      ],
      "source": [
        "diametros = dado_transposto[0:1]\n",
        "diametros"
      ]
    },
    {
      "cell_type": "code",
      "execution_count": null,
      "metadata": {
        "colab": {
          "base_uri": "https://localhost:8080/"
        },
        "id": "tCAe_0Zcr_Uy",
        "outputId": "c61b85b4-9fe1-4a56-f484-242e910f3d1d"
      },
      "outputs": [
        {
          "output_type": "execute_result",
          "data": {
            "text/plain": [
              "array([[ 86.76,  88.05,  95.17, ..., 256.5 , 260.14, 261.51]])"
            ]
          },
          "metadata": {},
          "execution_count": 10
        }
      ],
      "source": [
        "pesos = dado_transposto[1:2]\n",
        "pesos"
      ]
    },
    {
      "cell_type": "code",
      "execution_count": null,
      "metadata": {
        "id": "w4u9Vl8usyKv"
      },
      "outputs": [],
      "source": [
        "diametros_laranjas = diametros[0, 0:5000]\n",
        "pesos_laranjas = pesos[0, 0:5000]"
      ]
    },
    {
      "cell_type": "code",
      "execution_count": null,
      "metadata": {
        "id": "ffhie6WxuLpH"
      },
      "outputs": [],
      "source": [
        "diametros_toranjas = diametros[0, 5000:]\n",
        "pesos_toranjas = pesos[0, 5000:]"
      ]
    },
    {
      "cell_type": "code",
      "source": [
        "import matplotlib.pyplot as plt"
      ],
      "metadata": {
        "id": "9VioctuUHA6Z"
      },
      "execution_count": null,
      "outputs": []
    },
    {
      "cell_type": "code",
      "source": [
        "plt.plot(pesos_laranjas, diametros_laranjas)\n",
        "plt.plot(pesos_toranjas, diametros_toranjas)\n",
        "plt.legend(['Laranjas', 'Toranjas'])"
      ],
      "metadata": {
        "colab": {
          "base_uri": "https://localhost:8080/",
          "height": 447
        },
        "id": "uO_hXkeFHEps",
        "outputId": "cc5c3bc1-ae52-47c7-b29a-1396ea765874"
      },
      "execution_count": null,
      "outputs": [
        {
          "output_type": "execute_result",
          "data": {
            "text/plain": [
              "<matplotlib.legend.Legend at 0x7b35a0337a90>"
            ]
          },
          "metadata": {},
          "execution_count": 14
        },
        {
          "output_type": "display_data",
          "data": {
            "text/plain": [
              "<Figure size 640x480 with 1 Axes>"
            ],
            "image/png": "[encoded data removed]"
          },
          "metadata": {}
        }
      ]
    },
    {
      "cell_type": "code",
      "source": [
        "Y = pesos_laranjas\n",
        "X = diametros_laranjas\n",
        "n = np.size(X)\n",
        "\n",
        "a = (n*np.sum(X*Y) - np.sum(X)*np.sum(Y))/(n*np.sum(X**2)-np.sum(X)**2)\n",
        "b = np.mean(Y) - a*np.mean(X)"
      ],
      "metadata": {
        "id": "tp_luJboHN1U"
      },
      "execution_count": null,
      "outputs": []
    },
    {
      "cell_type": "code",
      "source": [
        "plt.plot(pesos_laranjas, diametros_laranjas)\n",
        "plt.plot(a, b)"
      ],
      "metadata": {
        "id": "RCzfMPqdeM8S",
        "colab": {
          "base_uri": "https://localhost:8080/",
          "height": 447
        },
        "outputId": "3b670c4a-bd9e-4559-d92e-a9eeaddd5143"
      },
      "execution_count": null,
      "outputs": [
        {
          "output_type": "execute_result",
          "data": {
            "text/plain": [
              "[<matplotlib.lines.Line2D at 0x7b35609df3d0>]"
            ]
          },
          "metadata": {},
          "execution_count": 17
        },
        {
          "output_type": "display_data",
          "data": {
            "text/plain": [
              "<Figure size 640x480 with 1 Axes>"
            ],
            "image/png": "[encoded data removed]"
          },
          "metadata": {}
        }
      ]
    },
    {
      "cell_type": "code",
      "source": [
        "norma = np.array([])\n",
        "np.random.seed(84)\n",
        "coef_angulares = np.random.uniform(low=0.0,high=30.0,size=100)\n",
        "\n",
        "for i in range(100):\n",
        "  norma = np.append(norma,np.linalg.norm(Y- (coef_angulares[i]*X+b)))"
      ],
      "metadata": {
        "id": "O1NUOrIGNpbf"
      },
      "execution_count": null,
      "outputs": []
    },
    {
      "cell_type": "code",
      "source": [],
      "metadata": {
        "id": "Z1SYYsARYZMm"
      },
      "execution_count": null,
      "outputs": []
    }
  ],
  "metadata": {
    "colab": {
      "provenance": [],
      "authorship_tag": "ABX9TyM9/6jrTZtAjLyt0/OWhyoA",
      "include_colab_link": true
    },
    "kernelspec": {
      "display_name": "Python 3",
      "name": "python3"
    },
    "language_info": {
      "name": "python"
    }
  },
  "nbformat": 4,
  "nbformat_minor": 0
}